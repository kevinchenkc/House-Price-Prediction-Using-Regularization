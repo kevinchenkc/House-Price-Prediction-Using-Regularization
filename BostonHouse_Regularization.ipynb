{
 "cells": [
  {
   "cell_type": "markdown",
   "metadata": {},
   "source": [
    "## Boston House Prediction with Regularization"
   ]
  },
  {
   "cell_type": "code",
   "execution_count": 1,
   "metadata": {},
   "outputs": [],
   "source": [
    "## import package\n",
    "import sklearn #scikit-learn\n",
    "import statsmodels\n",
    "import numpy as np\n",
    "import pandas as pd\n",
    "import matplotlib.pyplot as plt\n",
    "import seaborn as sns\n",
    "import warnings\n",
    "warnings.filterwarnings(\"ignore\")"
   ]
  },
  {
   "cell_type": "code",
   "execution_count": 2,
   "metadata": {},
   "outputs": [],
   "source": [
    "## import dataset\n",
    "from sklearn.datasets import load_boston"
   ]
  },
  {
   "cell_type": "markdown",
   "metadata": {},
   "source": [
    "# MULTIPLE LINEAR REGRESSION"
   ]
  },
  {
   "cell_type": "code",
   "execution_count": 3,
   "metadata": {},
   "outputs": [],
   "source": [
    "## save to dictionary\n",
    "boston=load_boston() # Dictionary"
   ]
  },
  {
   "cell_type": "code",
   "execution_count": 4,
   "metadata": {},
   "outputs": [
    {
     "data": {
      "text/plain": [
       "dict_keys(['data', 'target', 'feature_names', 'DESCR', 'filename', 'data_module'])"
      ]
     },
     "execution_count": 4,
     "metadata": {},
     "output_type": "execute_result"
    }
   ],
   "source": [
    "## define keys (columns) of dictionary\n",
    "boston.keys()"
   ]
  },
  {
   "cell_type": "code",
   "execution_count": 5,
   "metadata": {},
   "outputs": [
    {
     "name": "stdout",
     "output_type": "stream",
     "text": [
      ".. _boston_dataset:\n",
      "\n",
      "Boston house prices dataset\n",
      "---------------------------\n",
      "\n",
      "**Data Set Characteristics:**  \n",
      "\n",
      "    :Number of Instances: 506 \n",
      "\n",
      "    :Number of Attributes: 13 numeric/categorical predictive. Median Value (attribute 14) is usually the target.\n",
      "\n",
      "    :Attribute Information (in order):\n",
      "        - CRIM     per capita crime rate by town\n",
      "        - ZN       proportion of residential land zoned for lots over 25,000 sq.ft.\n",
      "        - INDUS    proportion of non-retail business acres per town\n",
      "        - CHAS     Charles River dummy variable (= 1 if tract bounds river; 0 otherwise)\n",
      "        - NOX      nitric oxides concentration (parts per 10 million)\n",
      "        - RM       average number of rooms per dwelling\n",
      "        - AGE      proportion of owner-occupied units built prior to 1940\n",
      "        - DIS      weighted distances to five Boston employment centres\n",
      "        - RAD      index of accessibility to radial highways\n",
      "        - TAX      full-value property-tax rate per $10,000\n",
      "        - PTRATIO  pupil-teacher ratio by town\n",
      "        - B        1000(Bk - 0.63)^2 where Bk is the proportion of black people by town\n",
      "        - LSTAT    % lower status of the population\n",
      "        - MEDV     Median value of owner-occupied homes in $1000's\n",
      "\n",
      "    :Missing Attribute Values: None\n",
      "\n",
      "    :Creator: Harrison, D. and Rubinfeld, D.L.\n",
      "\n",
      "This is a copy of UCI ML housing dataset.\n",
      "https://archive.ics.uci.edu/ml/machine-learning-databases/housing/\n",
      "\n",
      "\n",
      "This dataset was taken from the StatLib library which is maintained at Carnegie Mellon University.\n",
      "\n",
      "The Boston house-price data of Harrison, D. and Rubinfeld, D.L. 'Hedonic\n",
      "prices and the demand for clean air', J. Environ. Economics & Management,\n",
      "vol.5, 81-102, 1978.   Used in Belsley, Kuh & Welsch, 'Regression diagnostics\n",
      "...', Wiley, 1980.   N.B. Various transformations are used in the table on\n",
      "pages 244-261 of the latter.\n",
      "\n",
      "The Boston house-price data has been used in many machine learning papers that address regression\n",
      "problems.   \n",
      "     \n",
      ".. topic:: References\n",
      "\n",
      "   - Belsley, Kuh & Welsch, 'Regression diagnostics: Identifying Influential Data and Sources of Collinearity', Wiley, 1980. 244-261.\n",
      "   - Quinlan,R. (1993). Combining Instance-Based and Model-Based Learning. In Proceedings on the Tenth International Conference of Machine Learning, 236-243, University of Massachusetts, Amherst. Morgan Kaufmann.\n",
      "\n"
     ]
    }
   ],
   "source": [
    "## description of column DESCR\n",
    "print(boston['DESCR'])"
   ]
  },
  {
   "cell_type": "code",
   "execution_count": 6,
   "metadata": {},
   "outputs": [
    {
     "data": {
      "text/plain": [
       "(506, 13)"
      ]
     },
     "execution_count": 6,
     "metadata": {},
     "output_type": "execute_result"
    }
   ],
   "source": [
    "## determine shape of dataset\n",
    "boston['data'].shape"
   ]
  },
  {
   "cell_type": "code",
   "execution_count": 7,
   "metadata": {},
   "outputs": [
    {
     "data": {
      "text/plain": [
       "array([24. , 21.6, 34.7, 33.4, 36.2, 28.7, 22.9, 27.1, 16.5, 18.9, 15. ,\n",
       "       18.9, 21.7, 20.4, 18.2, 19.9, 23.1, 17.5, 20.2, 18.2, 13.6, 19.6,\n",
       "       15.2, 14.5, 15.6, 13.9, 16.6, 14.8, 18.4, 21. , 12.7, 14.5, 13.2,\n",
       "       13.1, 13.5, 18.9, 20. , 21. , 24.7, 30.8, 34.9, 26.6, 25.3, 24.7,\n",
       "       21.2, 19.3, 20. , 16.6, 14.4, 19.4, 19.7, 20.5, 25. , 23.4, 18.9,\n",
       "       35.4, 24.7, 31.6, 23.3, 19.6, 18.7, 16. , 22.2, 25. , 33. , 23.5,\n",
       "       19.4, 22. , 17.4, 20.9, 24.2, 21.7, 22.8, 23.4, 24.1, 21.4, 20. ,\n",
       "       20.8, 21.2, 20.3, 28. , 23.9, 24.8, 22.9, 23.9, 26.6, 22.5, 22.2,\n",
       "       23.6, 28.7, 22.6, 22. , 22.9, 25. , 20.6, 28.4, 21.4, 38.7, 43.8,\n",
       "       33.2, 27.5, 26.5, 18.6, 19.3, 20.1, 19.5, 19.5, 20.4, 19.8, 19.4,\n",
       "       21.7, 22.8, 18.8, 18.7, 18.5, 18.3, 21.2, 19.2, 20.4, 19.3, 22. ,\n",
       "       20.3, 20.5, 17.3, 18.8, 21.4, 15.7, 16.2, 18. , 14.3, 19.2, 19.6,\n",
       "       23. , 18.4, 15.6, 18.1, 17.4, 17.1, 13.3, 17.8, 14. , 14.4, 13.4,\n",
       "       15.6, 11.8, 13.8, 15.6, 14.6, 17.8, 15.4, 21.5, 19.6, 15.3, 19.4,\n",
       "       17. , 15.6, 13.1, 41.3, 24.3, 23.3, 27. , 50. , 50. , 50. , 22.7,\n",
       "       25. , 50. , 23.8, 23.8, 22.3, 17.4, 19.1, 23.1, 23.6, 22.6, 29.4,\n",
       "       23.2, 24.6, 29.9, 37.2, 39.8, 36.2, 37.9, 32.5, 26.4, 29.6, 50. ,\n",
       "       32. , 29.8, 34.9, 37. , 30.5, 36.4, 31.1, 29.1, 50. , 33.3, 30.3,\n",
       "       34.6, 34.9, 32.9, 24.1, 42.3, 48.5, 50. , 22.6, 24.4, 22.5, 24.4,\n",
       "       20. , 21.7, 19.3, 22.4, 28.1, 23.7, 25. , 23.3, 28.7, 21.5, 23. ,\n",
       "       26.7, 21.7, 27.5, 30.1, 44.8, 50. , 37.6, 31.6, 46.7, 31.5, 24.3,\n",
       "       31.7, 41.7, 48.3, 29. , 24. , 25.1, 31.5, 23.7, 23.3, 22. , 20.1,\n",
       "       22.2, 23.7, 17.6, 18.5, 24.3, 20.5, 24.5, 26.2, 24.4, 24.8, 29.6,\n",
       "       42.8, 21.9, 20.9, 44. , 50. , 36. , 30.1, 33.8, 43.1, 48.8, 31. ,\n",
       "       36.5, 22.8, 30.7, 50. , 43.5, 20.7, 21.1, 25.2, 24.4, 35.2, 32.4,\n",
       "       32. , 33.2, 33.1, 29.1, 35.1, 45.4, 35.4, 46. , 50. , 32.2, 22. ,\n",
       "       20.1, 23.2, 22.3, 24.8, 28.5, 37.3, 27.9, 23.9, 21.7, 28.6, 27.1,\n",
       "       20.3, 22.5, 29. , 24.8, 22. , 26.4, 33.1, 36.1, 28.4, 33.4, 28.2,\n",
       "       22.8, 20.3, 16.1, 22.1, 19.4, 21.6, 23.8, 16.2, 17.8, 19.8, 23.1,\n",
       "       21. , 23.8, 23.1, 20.4, 18.5, 25. , 24.6, 23. , 22.2, 19.3, 22.6,\n",
       "       19.8, 17.1, 19.4, 22.2, 20.7, 21.1, 19.5, 18.5, 20.6, 19. , 18.7,\n",
       "       32.7, 16.5, 23.9, 31.2, 17.5, 17.2, 23.1, 24.5, 26.6, 22.9, 24.1,\n",
       "       18.6, 30.1, 18.2, 20.6, 17.8, 21.7, 22.7, 22.6, 25. , 19.9, 20.8,\n",
       "       16.8, 21.9, 27.5, 21.9, 23.1, 50. , 50. , 50. , 50. , 50. , 13.8,\n",
       "       13.8, 15. , 13.9, 13.3, 13.1, 10.2, 10.4, 10.9, 11.3, 12.3,  8.8,\n",
       "        7.2, 10.5,  7.4, 10.2, 11.5, 15.1, 23.2,  9.7, 13.8, 12.7, 13.1,\n",
       "       12.5,  8.5,  5. ,  6.3,  5.6,  7.2, 12.1,  8.3,  8.5,  5. , 11.9,\n",
       "       27.9, 17.2, 27.5, 15. , 17.2, 17.9, 16.3,  7. ,  7.2,  7.5, 10.4,\n",
       "        8.8,  8.4, 16.7, 14.2, 20.8, 13.4, 11.7,  8.3, 10.2, 10.9, 11. ,\n",
       "        9.5, 14.5, 14.1, 16.1, 14.3, 11.7, 13.4,  9.6,  8.7,  8.4, 12.8,\n",
       "       10.5, 17.1, 18.4, 15.4, 10.8, 11.8, 14.9, 12.6, 14.1, 13. , 13.4,\n",
       "       15.2, 16.1, 17.8, 14.9, 14.1, 12.7, 13.5, 14.9, 20. , 16.4, 17.7,\n",
       "       19.5, 20.2, 21.4, 19.9, 19. , 19.1, 19.1, 20.1, 19.9, 19.6, 23.2,\n",
       "       29.8, 13.8, 13.3, 16.7, 12. , 14.6, 21.4, 23. , 23.7, 25. , 21.8,\n",
       "       20.6, 21.2, 19.1, 20.6, 15.2,  7. ,  8.1, 13.6, 20.1, 21.8, 24.5,\n",
       "       23.1, 19.7, 18.3, 21.2, 17.5, 16.8, 22.4, 20.6, 23.9, 22. , 11.9])"
      ]
     },
     "execution_count": 7,
     "metadata": {},
     "output_type": "execute_result"
    }
   ],
   "source": [
    "## define values in column 'target'\n",
    "boston['target']"
   ]
  },
  {
   "cell_type": "code",
   "execution_count": 8,
   "metadata": {},
   "outputs": [
    {
     "data": {
      "text/plain": [
       "array(['CRIM', 'ZN', 'INDUS', 'CHAS', 'NOX', 'RM', 'AGE', 'DIS', 'RAD',\n",
       "       'TAX', 'PTRATIO', 'B', 'LSTAT'], dtype='<U7')"
      ]
     },
     "execution_count": 8,
     "metadata": {},
     "output_type": "execute_result"
    }
   ],
   "source": [
    "## define values in column 'feature_names'\n",
    "boston['feature_names']"
   ]
  },
  {
   "cell_type": "code",
   "execution_count": 9,
   "metadata": {},
   "outputs": [
    {
     "data": {
      "text/html": [
       "<div>\n",
       "<style scoped>\n",
       "    .dataframe tbody tr th:only-of-type {\n",
       "        vertical-align: middle;\n",
       "    }\n",
       "\n",
       "    .dataframe tbody tr th {\n",
       "        vertical-align: top;\n",
       "    }\n",
       "\n",
       "    .dataframe thead th {\n",
       "        text-align: right;\n",
       "    }\n",
       "</style>\n",
       "<table border=\"1\" class=\"dataframe\">\n",
       "  <thead>\n",
       "    <tr style=\"text-align: right;\">\n",
       "      <th></th>\n",
       "      <th>CRIM</th>\n",
       "      <th>ZN</th>\n",
       "      <th>INDUS</th>\n",
       "      <th>CHAS</th>\n",
       "      <th>NOX</th>\n",
       "      <th>RM</th>\n",
       "      <th>AGE</th>\n",
       "      <th>DIS</th>\n",
       "      <th>RAD</th>\n",
       "      <th>TAX</th>\n",
       "      <th>PTRATIO</th>\n",
       "      <th>B</th>\n",
       "      <th>LSTAT</th>\n",
       "    </tr>\n",
       "  </thead>\n",
       "  <tbody>\n",
       "    <tr>\n",
       "      <th>0</th>\n",
       "      <td>0.00632</td>\n",
       "      <td>18.0</td>\n",
       "      <td>2.31</td>\n",
       "      <td>0.0</td>\n",
       "      <td>0.538</td>\n",
       "      <td>6.575</td>\n",
       "      <td>65.2</td>\n",
       "      <td>4.0900</td>\n",
       "      <td>1.0</td>\n",
       "      <td>296.0</td>\n",
       "      <td>15.3</td>\n",
       "      <td>396.90</td>\n",
       "      <td>4.98</td>\n",
       "    </tr>\n",
       "    <tr>\n",
       "      <th>1</th>\n",
       "      <td>0.02731</td>\n",
       "      <td>0.0</td>\n",
       "      <td>7.07</td>\n",
       "      <td>0.0</td>\n",
       "      <td>0.469</td>\n",
       "      <td>6.421</td>\n",
       "      <td>78.9</td>\n",
       "      <td>4.9671</td>\n",
       "      <td>2.0</td>\n",
       "      <td>242.0</td>\n",
       "      <td>17.8</td>\n",
       "      <td>396.90</td>\n",
       "      <td>9.14</td>\n",
       "    </tr>\n",
       "    <tr>\n",
       "      <th>2</th>\n",
       "      <td>0.02729</td>\n",
       "      <td>0.0</td>\n",
       "      <td>7.07</td>\n",
       "      <td>0.0</td>\n",
       "      <td>0.469</td>\n",
       "      <td>7.185</td>\n",
       "      <td>61.1</td>\n",
       "      <td>4.9671</td>\n",
       "      <td>2.0</td>\n",
       "      <td>242.0</td>\n",
       "      <td>17.8</td>\n",
       "      <td>392.83</td>\n",
       "      <td>4.03</td>\n",
       "    </tr>\n",
       "    <tr>\n",
       "      <th>3</th>\n",
       "      <td>0.03237</td>\n",
       "      <td>0.0</td>\n",
       "      <td>2.18</td>\n",
       "      <td>0.0</td>\n",
       "      <td>0.458</td>\n",
       "      <td>6.998</td>\n",
       "      <td>45.8</td>\n",
       "      <td>6.0622</td>\n",
       "      <td>3.0</td>\n",
       "      <td>222.0</td>\n",
       "      <td>18.7</td>\n",
       "      <td>394.63</td>\n",
       "      <td>2.94</td>\n",
       "    </tr>\n",
       "    <tr>\n",
       "      <th>4</th>\n",
       "      <td>0.06905</td>\n",
       "      <td>0.0</td>\n",
       "      <td>2.18</td>\n",
       "      <td>0.0</td>\n",
       "      <td>0.458</td>\n",
       "      <td>7.147</td>\n",
       "      <td>54.2</td>\n",
       "      <td>6.0622</td>\n",
       "      <td>3.0</td>\n",
       "      <td>222.0</td>\n",
       "      <td>18.7</td>\n",
       "      <td>396.90</td>\n",
       "      <td>5.33</td>\n",
       "    </tr>\n",
       "  </tbody>\n",
       "</table>\n",
       "</div>"
      ],
      "text/plain": [
       "      CRIM    ZN  INDUS  CHAS    NOX     RM   AGE     DIS  RAD    TAX  \\\n",
       "0  0.00632  18.0   2.31   0.0  0.538  6.575  65.2  4.0900  1.0  296.0   \n",
       "1  0.02731   0.0   7.07   0.0  0.469  6.421  78.9  4.9671  2.0  242.0   \n",
       "2  0.02729   0.0   7.07   0.0  0.469  7.185  61.1  4.9671  2.0  242.0   \n",
       "3  0.03237   0.0   2.18   0.0  0.458  6.998  45.8  6.0622  3.0  222.0   \n",
       "4  0.06905   0.0   2.18   0.0  0.458  7.147  54.2  6.0622  3.0  222.0   \n",
       "\n",
       "   PTRATIO       B  LSTAT  \n",
       "0     15.3  396.90   4.98  \n",
       "1     17.8  396.90   9.14  \n",
       "2     17.8  392.83   4.03  \n",
       "3     18.7  394.63   2.94  \n",
       "4     18.7  396.90   5.33  "
      ]
     },
     "execution_count": 9,
     "metadata": {},
     "output_type": "execute_result"
    }
   ],
   "source": [
    "## convert to DataFrame\n",
    "df=pd.DataFrame(data=boston['data'],columns=boston['feature_names'])\n",
    "df.head()"
   ]
  },
  {
   "cell_type": "code",
   "execution_count": 10,
   "metadata": {},
   "outputs": [
    {
     "data": {
      "text/plain": [
       "0      24.0\n",
       "1      21.6\n",
       "2      34.7\n",
       "3      33.4\n",
       "4      36.2\n",
       "       ... \n",
       "501    22.4\n",
       "502    20.6\n",
       "503    23.9\n",
       "504    22.0\n",
       "505    11.9\n",
       "Length: 506, dtype: float64"
      ]
     },
     "execution_count": 10,
     "metadata": {},
     "output_type": "execute_result"
    }
   ],
   "source": [
    "## keep 'target' column as Series\n",
    "target=pd.Series(boston['target'])\n",
    "target"
   ]
  },
  {
   "cell_type": "code",
   "execution_count": 11,
   "metadata": {},
   "outputs": [
    {
     "data": {
      "text/html": [
       "<div>\n",
       "<style scoped>\n",
       "    .dataframe tbody tr th:only-of-type {\n",
       "        vertical-align: middle;\n",
       "    }\n",
       "\n",
       "    .dataframe tbody tr th {\n",
       "        vertical-align: top;\n",
       "    }\n",
       "\n",
       "    .dataframe thead th {\n",
       "        text-align: right;\n",
       "    }\n",
       "</style>\n",
       "<table border=\"1\" class=\"dataframe\">\n",
       "  <thead>\n",
       "    <tr style=\"text-align: right;\">\n",
       "      <th></th>\n",
       "      <th>CRIM</th>\n",
       "      <th>ZN</th>\n",
       "      <th>INDUS</th>\n",
       "      <th>CHAS</th>\n",
       "      <th>NOX</th>\n",
       "      <th>RM</th>\n",
       "      <th>AGE</th>\n",
       "      <th>DIS</th>\n",
       "      <th>RAD</th>\n",
       "      <th>TAX</th>\n",
       "      <th>PTRATIO</th>\n",
       "      <th>B</th>\n",
       "      <th>LSTAT</th>\n",
       "      <th>Price</th>\n",
       "    </tr>\n",
       "  </thead>\n",
       "  <tbody>\n",
       "    <tr>\n",
       "      <th>0</th>\n",
       "      <td>0.00632</td>\n",
       "      <td>18.0</td>\n",
       "      <td>2.31</td>\n",
       "      <td>0.0</td>\n",
       "      <td>0.538</td>\n",
       "      <td>6.575</td>\n",
       "      <td>65.2</td>\n",
       "      <td>4.0900</td>\n",
       "      <td>1.0</td>\n",
       "      <td>296.0</td>\n",
       "      <td>15.3</td>\n",
       "      <td>396.90</td>\n",
       "      <td>4.98</td>\n",
       "      <td>24.0</td>\n",
       "    </tr>\n",
       "    <tr>\n",
       "      <th>1</th>\n",
       "      <td>0.02731</td>\n",
       "      <td>0.0</td>\n",
       "      <td>7.07</td>\n",
       "      <td>0.0</td>\n",
       "      <td>0.469</td>\n",
       "      <td>6.421</td>\n",
       "      <td>78.9</td>\n",
       "      <td>4.9671</td>\n",
       "      <td>2.0</td>\n",
       "      <td>242.0</td>\n",
       "      <td>17.8</td>\n",
       "      <td>396.90</td>\n",
       "      <td>9.14</td>\n",
       "      <td>21.6</td>\n",
       "    </tr>\n",
       "    <tr>\n",
       "      <th>2</th>\n",
       "      <td>0.02729</td>\n",
       "      <td>0.0</td>\n",
       "      <td>7.07</td>\n",
       "      <td>0.0</td>\n",
       "      <td>0.469</td>\n",
       "      <td>7.185</td>\n",
       "      <td>61.1</td>\n",
       "      <td>4.9671</td>\n",
       "      <td>2.0</td>\n",
       "      <td>242.0</td>\n",
       "      <td>17.8</td>\n",
       "      <td>392.83</td>\n",
       "      <td>4.03</td>\n",
       "      <td>34.7</td>\n",
       "    </tr>\n",
       "    <tr>\n",
       "      <th>3</th>\n",
       "      <td>0.03237</td>\n",
       "      <td>0.0</td>\n",
       "      <td>2.18</td>\n",
       "      <td>0.0</td>\n",
       "      <td>0.458</td>\n",
       "      <td>6.998</td>\n",
       "      <td>45.8</td>\n",
       "      <td>6.0622</td>\n",
       "      <td>3.0</td>\n",
       "      <td>222.0</td>\n",
       "      <td>18.7</td>\n",
       "      <td>394.63</td>\n",
       "      <td>2.94</td>\n",
       "      <td>33.4</td>\n",
       "    </tr>\n",
       "    <tr>\n",
       "      <th>4</th>\n",
       "      <td>0.06905</td>\n",
       "      <td>0.0</td>\n",
       "      <td>2.18</td>\n",
       "      <td>0.0</td>\n",
       "      <td>0.458</td>\n",
       "      <td>7.147</td>\n",
       "      <td>54.2</td>\n",
       "      <td>6.0622</td>\n",
       "      <td>3.0</td>\n",
       "      <td>222.0</td>\n",
       "      <td>18.7</td>\n",
       "      <td>396.90</td>\n",
       "      <td>5.33</td>\n",
       "      <td>36.2</td>\n",
       "    </tr>\n",
       "  </tbody>\n",
       "</table>\n",
       "</div>"
      ],
      "text/plain": [
       "      CRIM    ZN  INDUS  CHAS    NOX     RM   AGE     DIS  RAD    TAX  \\\n",
       "0  0.00632  18.0   2.31   0.0  0.538  6.575  65.2  4.0900  1.0  296.0   \n",
       "1  0.02731   0.0   7.07   0.0  0.469  6.421  78.9  4.9671  2.0  242.0   \n",
       "2  0.02729   0.0   7.07   0.0  0.469  7.185  61.1  4.9671  2.0  242.0   \n",
       "3  0.03237   0.0   2.18   0.0  0.458  6.998  45.8  6.0622  3.0  222.0   \n",
       "4  0.06905   0.0   2.18   0.0  0.458  7.147  54.2  6.0622  3.0  222.0   \n",
       "\n",
       "   PTRATIO       B  LSTAT  Price  \n",
       "0     15.3  396.90   4.98   24.0  \n",
       "1     17.8  396.90   9.14   21.6  \n",
       "2     17.8  392.83   4.03   34.7  \n",
       "3     18.7  394.63   2.94   33.4  \n",
       "4     18.7  396.90   5.33   36.2  "
      ]
     },
     "execution_count": 11,
     "metadata": {},
     "output_type": "execute_result"
    }
   ],
   "source": [
    "## import Series 'target' to DataFrame as column 'Price'\n",
    "df['Price']=target\n",
    "df.head(5)"
   ]
  },
  {
   "cell_type": "markdown",
   "metadata": {},
   "source": [
    "<hr>\n",
    "\n",
    "## QUICK EDA"
   ]
  },
  {
   "cell_type": "code",
   "execution_count": 12,
   "metadata": {},
   "outputs": [
    {
     "data": {
      "text/plain": [
       "CRIM       float64\n",
       "ZN         float64\n",
       "INDUS      float64\n",
       "CHAS       float64\n",
       "NOX        float64\n",
       "RM         float64\n",
       "AGE        float64\n",
       "DIS        float64\n",
       "RAD        float64\n",
       "TAX        float64\n",
       "PTRATIO    float64\n",
       "B          float64\n",
       "LSTAT      float64\n",
       "Price      float64\n",
       "dtype: object"
      ]
     },
     "execution_count": 12,
     "metadata": {},
     "output_type": "execute_result"
    }
   ],
   "source": [
    "## check type of data in every columns\n",
    "df.dtypes\n",
    "## Result: all of them are numeric columns in float data type"
   ]
  },
  {
   "cell_type": "code",
   "execution_count": 13,
   "metadata": {},
   "outputs": [
    {
     "name": "stdout",
     "output_type": "stream",
     "text": [
      "<class 'pandas.core.frame.DataFrame'>\n",
      "RangeIndex: 506 entries, 0 to 505\n",
      "Data columns (total 14 columns):\n",
      " #   Column   Non-Null Count  Dtype  \n",
      "---  ------   --------------  -----  \n",
      " 0   CRIM     506 non-null    float64\n",
      " 1   ZN       506 non-null    float64\n",
      " 2   INDUS    506 non-null    float64\n",
      " 3   CHAS     506 non-null    float64\n",
      " 4   NOX      506 non-null    float64\n",
      " 5   RM       506 non-null    float64\n",
      " 6   AGE      506 non-null    float64\n",
      " 7   DIS      506 non-null    float64\n",
      " 8   RAD      506 non-null    float64\n",
      " 9   TAX      506 non-null    float64\n",
      " 10  PTRATIO  506 non-null    float64\n",
      " 11  B        506 non-null    float64\n",
      " 12  LSTAT    506 non-null    float64\n",
      " 13  Price    506 non-null    float64\n",
      "dtypes: float64(14)\n",
      "memory usage: 55.5 KB\n"
     ]
    }
   ],
   "source": [
    "## check for missing value\n",
    "df.info()\n",
    "## Result: no missing value detected"
   ]
  },
  {
   "cell_type": "code",
   "execution_count": 14,
   "metadata": {},
   "outputs": [
    {
     "data": {
      "text/html": [
       "<div>\n",
       "<style scoped>\n",
       "    .dataframe tbody tr th:only-of-type {\n",
       "        vertical-align: middle;\n",
       "    }\n",
       "\n",
       "    .dataframe tbody tr th {\n",
       "        vertical-align: top;\n",
       "    }\n",
       "\n",
       "    .dataframe thead th {\n",
       "        text-align: right;\n",
       "    }\n",
       "</style>\n",
       "<table border=\"1\" class=\"dataframe\">\n",
       "  <thead>\n",
       "    <tr style=\"text-align: right;\">\n",
       "      <th></th>\n",
       "      <th>CRIM</th>\n",
       "      <th>ZN</th>\n",
       "      <th>INDUS</th>\n",
       "      <th>CHAS</th>\n",
       "      <th>NOX</th>\n",
       "      <th>RM</th>\n",
       "      <th>AGE</th>\n",
       "      <th>DIS</th>\n",
       "      <th>RAD</th>\n",
       "      <th>TAX</th>\n",
       "      <th>PTRATIO</th>\n",
       "      <th>B</th>\n",
       "      <th>LSTAT</th>\n",
       "      <th>Price</th>\n",
       "    </tr>\n",
       "  </thead>\n",
       "  <tbody>\n",
       "    <tr>\n",
       "      <th>count</th>\n",
       "      <td>506.000000</td>\n",
       "      <td>506.000000</td>\n",
       "      <td>506.000000</td>\n",
       "      <td>506.000000</td>\n",
       "      <td>506.000000</td>\n",
       "      <td>506.000000</td>\n",
       "      <td>506.000000</td>\n",
       "      <td>506.000000</td>\n",
       "      <td>506.000000</td>\n",
       "      <td>506.000000</td>\n",
       "      <td>506.000000</td>\n",
       "      <td>506.000000</td>\n",
       "      <td>506.000000</td>\n",
       "      <td>506.000000</td>\n",
       "    </tr>\n",
       "    <tr>\n",
       "      <th>mean</th>\n",
       "      <td>3.613524</td>\n",
       "      <td>11.363636</td>\n",
       "      <td>11.136779</td>\n",
       "      <td>0.069170</td>\n",
       "      <td>0.554695</td>\n",
       "      <td>6.284634</td>\n",
       "      <td>68.574901</td>\n",
       "      <td>3.795043</td>\n",
       "      <td>9.549407</td>\n",
       "      <td>408.237154</td>\n",
       "      <td>18.455534</td>\n",
       "      <td>356.674032</td>\n",
       "      <td>12.653063</td>\n",
       "      <td>22.532806</td>\n",
       "    </tr>\n",
       "    <tr>\n",
       "      <th>std</th>\n",
       "      <td>8.601545</td>\n",
       "      <td>23.322453</td>\n",
       "      <td>6.860353</td>\n",
       "      <td>0.253994</td>\n",
       "      <td>0.115878</td>\n",
       "      <td>0.702617</td>\n",
       "      <td>28.148861</td>\n",
       "      <td>2.105710</td>\n",
       "      <td>8.707259</td>\n",
       "      <td>168.537116</td>\n",
       "      <td>2.164946</td>\n",
       "      <td>91.294864</td>\n",
       "      <td>7.141062</td>\n",
       "      <td>9.197104</td>\n",
       "    </tr>\n",
       "    <tr>\n",
       "      <th>min</th>\n",
       "      <td>0.006320</td>\n",
       "      <td>0.000000</td>\n",
       "      <td>0.460000</td>\n",
       "      <td>0.000000</td>\n",
       "      <td>0.385000</td>\n",
       "      <td>3.561000</td>\n",
       "      <td>2.900000</td>\n",
       "      <td>1.129600</td>\n",
       "      <td>1.000000</td>\n",
       "      <td>187.000000</td>\n",
       "      <td>12.600000</td>\n",
       "      <td>0.320000</td>\n",
       "      <td>1.730000</td>\n",
       "      <td>5.000000</td>\n",
       "    </tr>\n",
       "    <tr>\n",
       "      <th>25%</th>\n",
       "      <td>0.082045</td>\n",
       "      <td>0.000000</td>\n",
       "      <td>5.190000</td>\n",
       "      <td>0.000000</td>\n",
       "      <td>0.449000</td>\n",
       "      <td>5.885500</td>\n",
       "      <td>45.025000</td>\n",
       "      <td>2.100175</td>\n",
       "      <td>4.000000</td>\n",
       "      <td>279.000000</td>\n",
       "      <td>17.400000</td>\n",
       "      <td>375.377500</td>\n",
       "      <td>6.950000</td>\n",
       "      <td>17.025000</td>\n",
       "    </tr>\n",
       "    <tr>\n",
       "      <th>50%</th>\n",
       "      <td>0.256510</td>\n",
       "      <td>0.000000</td>\n",
       "      <td>9.690000</td>\n",
       "      <td>0.000000</td>\n",
       "      <td>0.538000</td>\n",
       "      <td>6.208500</td>\n",
       "      <td>77.500000</td>\n",
       "      <td>3.207450</td>\n",
       "      <td>5.000000</td>\n",
       "      <td>330.000000</td>\n",
       "      <td>19.050000</td>\n",
       "      <td>391.440000</td>\n",
       "      <td>11.360000</td>\n",
       "      <td>21.200000</td>\n",
       "    </tr>\n",
       "    <tr>\n",
       "      <th>75%</th>\n",
       "      <td>3.677083</td>\n",
       "      <td>12.500000</td>\n",
       "      <td>18.100000</td>\n",
       "      <td>0.000000</td>\n",
       "      <td>0.624000</td>\n",
       "      <td>6.623500</td>\n",
       "      <td>94.075000</td>\n",
       "      <td>5.188425</td>\n",
       "      <td>24.000000</td>\n",
       "      <td>666.000000</td>\n",
       "      <td>20.200000</td>\n",
       "      <td>396.225000</td>\n",
       "      <td>16.955000</td>\n",
       "      <td>25.000000</td>\n",
       "    </tr>\n",
       "    <tr>\n",
       "      <th>max</th>\n",
       "      <td>88.976200</td>\n",
       "      <td>100.000000</td>\n",
       "      <td>27.740000</td>\n",
       "      <td>1.000000</td>\n",
       "      <td>0.871000</td>\n",
       "      <td>8.780000</td>\n",
       "      <td>100.000000</td>\n",
       "      <td>12.126500</td>\n",
       "      <td>24.000000</td>\n",
       "      <td>711.000000</td>\n",
       "      <td>22.000000</td>\n",
       "      <td>396.900000</td>\n",
       "      <td>37.970000</td>\n",
       "      <td>50.000000</td>\n",
       "    </tr>\n",
       "  </tbody>\n",
       "</table>\n",
       "</div>"
      ],
      "text/plain": [
       "             CRIM          ZN       INDUS        CHAS         NOX          RM  \\\n",
       "count  506.000000  506.000000  506.000000  506.000000  506.000000  506.000000   \n",
       "mean     3.613524   11.363636   11.136779    0.069170    0.554695    6.284634   \n",
       "std      8.601545   23.322453    6.860353    0.253994    0.115878    0.702617   \n",
       "min      0.006320    0.000000    0.460000    0.000000    0.385000    3.561000   \n",
       "25%      0.082045    0.000000    5.190000    0.000000    0.449000    5.885500   \n",
       "50%      0.256510    0.000000    9.690000    0.000000    0.538000    6.208500   \n",
       "75%      3.677083   12.500000   18.100000    0.000000    0.624000    6.623500   \n",
       "max     88.976200  100.000000   27.740000    1.000000    0.871000    8.780000   \n",
       "\n",
       "              AGE         DIS         RAD         TAX     PTRATIO           B  \\\n",
       "count  506.000000  506.000000  506.000000  506.000000  506.000000  506.000000   \n",
       "mean    68.574901    3.795043    9.549407  408.237154   18.455534  356.674032   \n",
       "std     28.148861    2.105710    8.707259  168.537116    2.164946   91.294864   \n",
       "min      2.900000    1.129600    1.000000  187.000000   12.600000    0.320000   \n",
       "25%     45.025000    2.100175    4.000000  279.000000   17.400000  375.377500   \n",
       "50%     77.500000    3.207450    5.000000  330.000000   19.050000  391.440000   \n",
       "75%     94.075000    5.188425   24.000000  666.000000   20.200000  396.225000   \n",
       "max    100.000000   12.126500   24.000000  711.000000   22.000000  396.900000   \n",
       "\n",
       "            LSTAT       Price  \n",
       "count  506.000000  506.000000  \n",
       "mean    12.653063   22.532806  \n",
       "std      7.141062    9.197104  \n",
       "min      1.730000    5.000000  \n",
       "25%      6.950000   17.025000  \n",
       "50%     11.360000   21.200000  \n",
       "75%     16.955000   25.000000  \n",
       "max     37.970000   50.000000  "
      ]
     },
     "execution_count": 14,
     "metadata": {},
     "output_type": "execute_result"
    }
   ],
   "source": [
    "## describe every columns\n",
    "df.describe()\n",
    "## Result: no indication of preliminary anomaly detected"
   ]
  },
  {
   "cell_type": "code",
   "execution_count": 15,
   "metadata": {},
   "outputs": [],
   "source": [
    "## summarize description of columns\n",
    "bsDesc=[]\n",
    "for i in df.columns:\n",
    "    bsDesc.append([\n",
    "        i,\n",
    "        df[i].dtypes,\n",
    "        df[i].isna().sum(),\n",
    "        round((df[i].isna().sum()/len(df))*100,2),\n",
    "        df[i].nunique(),\n",
    "        df[i].drop_duplicates().sample(2).values\n",
    "    ])"
   ]
  },
  {
   "cell_type": "code",
   "execution_count": 16,
   "metadata": {},
   "outputs": [
    {
     "data": {
      "text/html": [
       "<div>\n",
       "<style scoped>\n",
       "    .dataframe tbody tr th:only-of-type {\n",
       "        vertical-align: middle;\n",
       "    }\n",
       "\n",
       "    .dataframe tbody tr th {\n",
       "        vertical-align: top;\n",
       "    }\n",
       "\n",
       "    .dataframe thead th {\n",
       "        text-align: right;\n",
       "    }\n",
       "</style>\n",
       "<table border=\"1\" class=\"dataframe\">\n",
       "  <thead>\n",
       "    <tr style=\"text-align: right;\">\n",
       "      <th></th>\n",
       "      <th>Features</th>\n",
       "      <th>DataType</th>\n",
       "      <th>Null</th>\n",
       "      <th>Null(%)</th>\n",
       "      <th>Unique</th>\n",
       "      <th>UniqueSample</th>\n",
       "    </tr>\n",
       "  </thead>\n",
       "  <tbody>\n",
       "    <tr>\n",
       "      <th>0</th>\n",
       "      <td>CRIM</td>\n",
       "      <td>float64</td>\n",
       "      <td>0</td>\n",
       "      <td>0.0</td>\n",
       "      <td>504</td>\n",
       "      <td>[19.6091, 0.04417]</td>\n",
       "    </tr>\n",
       "    <tr>\n",
       "      <th>1</th>\n",
       "      <td>ZN</td>\n",
       "      <td>float64</td>\n",
       "      <td>0</td>\n",
       "      <td>0.0</td>\n",
       "      <td>26</td>\n",
       "      <td>[20.0, 52.5]</td>\n",
       "    </tr>\n",
       "    <tr>\n",
       "      <th>2</th>\n",
       "      <td>INDUS</td>\n",
       "      <td>float64</td>\n",
       "      <td>0</td>\n",
       "      <td>0.0</td>\n",
       "      <td>76</td>\n",
       "      <td>[10.81, 3.24]</td>\n",
       "    </tr>\n",
       "    <tr>\n",
       "      <th>3</th>\n",
       "      <td>CHAS</td>\n",
       "      <td>float64</td>\n",
       "      <td>0</td>\n",
       "      <td>0.0</td>\n",
       "      <td>2</td>\n",
       "      <td>[0.0, 1.0]</td>\n",
       "    </tr>\n",
       "    <tr>\n",
       "      <th>4</th>\n",
       "      <td>NOX</td>\n",
       "      <td>float64</td>\n",
       "      <td>0</td>\n",
       "      <td>0.0</td>\n",
       "      <td>81</td>\n",
       "      <td>[0.453, 0.504]</td>\n",
       "    </tr>\n",
       "    <tr>\n",
       "      <th>5</th>\n",
       "      <td>RM</td>\n",
       "      <td>float64</td>\n",
       "      <td>0</td>\n",
       "      <td>0.0</td>\n",
       "      <td>446</td>\n",
       "      <td>[5.905, 6.485]</td>\n",
       "    </tr>\n",
       "    <tr>\n",
       "      <th>6</th>\n",
       "      <td>AGE</td>\n",
       "      <td>float64</td>\n",
       "      <td>0</td>\n",
       "      <td>0.0</td>\n",
       "      <td>356</td>\n",
       "      <td>[82.8, 23.3]</td>\n",
       "    </tr>\n",
       "    <tr>\n",
       "      <th>7</th>\n",
       "      <td>DIS</td>\n",
       "      <td>float64</td>\n",
       "      <td>0</td>\n",
       "      <td>0.0</td>\n",
       "      <td>412</td>\n",
       "      <td>[1.4394, 4.9671]</td>\n",
       "    </tr>\n",
       "    <tr>\n",
       "      <th>8</th>\n",
       "      <td>RAD</td>\n",
       "      <td>float64</td>\n",
       "      <td>0</td>\n",
       "      <td>0.0</td>\n",
       "      <td>9</td>\n",
       "      <td>[8.0, 24.0]</td>\n",
       "    </tr>\n",
       "    <tr>\n",
       "      <th>9</th>\n",
       "      <td>TAX</td>\n",
       "      <td>float64</td>\n",
       "      <td>0</td>\n",
       "      <td>0.0</td>\n",
       "      <td>66</td>\n",
       "      <td>[241.0, 270.0]</td>\n",
       "    </tr>\n",
       "    <tr>\n",
       "      <th>10</th>\n",
       "      <td>PTRATIO</td>\n",
       "      <td>float64</td>\n",
       "      <td>0</td>\n",
       "      <td>0.0</td>\n",
       "      <td>46</td>\n",
       "      <td>[15.2, 13.6]</td>\n",
       "    </tr>\n",
       "    <tr>\n",
       "      <th>11</th>\n",
       "      <td>B</td>\n",
       "      <td>float64</td>\n",
       "      <td>0</td>\n",
       "      <td>0.0</td>\n",
       "      <td>357</td>\n",
       "      <td>[396.3, 318.01]</td>\n",
       "    </tr>\n",
       "    <tr>\n",
       "      <th>12</th>\n",
       "      <td>LSTAT</td>\n",
       "      <td>float64</td>\n",
       "      <td>0</td>\n",
       "      <td>0.0</td>\n",
       "      <td>455</td>\n",
       "      <td>[29.55, 8.81]</td>\n",
       "    </tr>\n",
       "    <tr>\n",
       "      <th>13</th>\n",
       "      <td>Price</td>\n",
       "      <td>float64</td>\n",
       "      <td>0</td>\n",
       "      <td>0.0</td>\n",
       "      <td>229</td>\n",
       "      <td>[22.3, 16.1]</td>\n",
       "    </tr>\n",
       "  </tbody>\n",
       "</table>\n",
       "</div>"
      ],
      "text/plain": [
       "   Features DataType  Null  Null(%)  Unique        UniqueSample\n",
       "0      CRIM  float64     0      0.0     504  [19.6091, 0.04417]\n",
       "1        ZN  float64     0      0.0      26        [20.0, 52.5]\n",
       "2     INDUS  float64     0      0.0      76       [10.81, 3.24]\n",
       "3      CHAS  float64     0      0.0       2          [0.0, 1.0]\n",
       "4       NOX  float64     0      0.0      81      [0.453, 0.504]\n",
       "5        RM  float64     0      0.0     446      [5.905, 6.485]\n",
       "6       AGE  float64     0      0.0     356        [82.8, 23.3]\n",
       "7       DIS  float64     0      0.0     412    [1.4394, 4.9671]\n",
       "8       RAD  float64     0      0.0       9         [8.0, 24.0]\n",
       "9       TAX  float64     0      0.0      66      [241.0, 270.0]\n",
       "10  PTRATIO  float64     0      0.0      46        [15.2, 13.6]\n",
       "11        B  float64     0      0.0     357     [396.3, 318.01]\n",
       "12    LSTAT  float64     0      0.0     455       [29.55, 8.81]\n",
       "13    Price  float64     0      0.0     229        [22.3, 16.1]"
      ]
     },
     "execution_count": 16,
     "metadata": {},
     "output_type": "execute_result"
    }
   ],
   "source": [
    "## present as DataFrame\n",
    "pd.DataFrame(data=bsDesc,columns=['Features','DataType','Null','Null(%)','Unique','UniqueSample'])\n",
    "## Result: no missing value indicated, all numerics value in float data type, there are 14 columns"
   ]
  },
  {
   "cell_type": "code",
   "execution_count": 17,
   "metadata": {},
   "outputs": [
    {
     "data": {
      "image/png": "[encoded data removed]",
      "text/plain": [
       "<Figure size 432x288 with 1 Axes>"
      ]
     },
     "metadata": {
      "needs_background": "light"
     },
     "output_type": "display_data"
    }
   ],
   "source": [
    "## check for outlier in 'Price' (target variable) with Boxplot\n",
    "sns.boxplot(df['Price'])\n",
    "plt.show()\n",
    "## Result: there are outliers detected"
   ]
  },
  {
   "cell_type": "code",
   "execution_count": 18,
   "metadata": {},
   "outputs": [
    {
     "data": {
      "image/png": "[encoded data removed]",
      "text/plain": [
       "<Figure size 432x288 with 1 Axes>"
      ]
     },
     "metadata": {
      "needs_background": "light"
     },
     "output_type": "display_data"
    }
   ],
   "source": [
    "## check for data distribution of 'Price' (target variable) with histogram\n",
    "sns.distplot(df['Price'])\n",
    "plt.show()\n",
    "## Result: target is not normally distributed"
   ]
  },
  {
   "cell_type": "code",
   "execution_count": 19,
   "metadata": {},
   "outputs": [
    {
     "data": {
      "image/png": "[encoded data removed]",
      "text/plain": [
       "<Figure size 864x720 with 2 Axes>"
      ]
     },
     "metadata": {
      "needs_background": "light"
     },
     "output_type": "display_data"
    }
   ],
   "source": [
    "## CORRELATION TEST with Spearman (because outliers detected)\n",
    "plt.figure(figsize=(12,10))\n",
    "sns.heatmap(df.corr('spearman'),annot=True)\n",
    "plt.show()\n",
    "## We only focused on correlation of variables to 'Price' (target variable)\n",
    "## Result: We detected most of the features have correlation within range of 0.5 - 0.65 towards Price. The only higher value is LSTAT."
   ]
  },
  {
   "cell_type": "markdown",
   "metadata": {},
   "source": [
    "<hr>\n",
    "\n",
    "## FEATURE SELECTIONS\n",
    "\n",
    "- Choose Features to be used for Training Model\n",
    "- One of the method is using correlation test result (as above)\n",
    "- Drop columns with Correlation Test result within -0.5 < x < 0.5 towards Price (ZN, CHAS, DIS, RAD, B)"
   ]
  },
  {
   "cell_type": "code",
   "execution_count": 20,
   "metadata": {},
   "outputs": [
    {
     "data": {
      "text/html": [
       "<div>\n",
       "<style scoped>\n",
       "    .dataframe tbody tr th:only-of-type {\n",
       "        vertical-align: middle;\n",
       "    }\n",
       "\n",
       "    .dataframe tbody tr th {\n",
       "        vertical-align: top;\n",
       "    }\n",
       "\n",
       "    .dataframe thead th {\n",
       "        text-align: right;\n",
       "    }\n",
       "</style>\n",
       "<table border=\"1\" class=\"dataframe\">\n",
       "  <thead>\n",
       "    <tr style=\"text-align: right;\">\n",
       "      <th></th>\n",
       "      <th>CRIM</th>\n",
       "      <th>INDUS</th>\n",
       "      <th>NOX</th>\n",
       "      <th>RM</th>\n",
       "      <th>AGE</th>\n",
       "      <th>TAX</th>\n",
       "      <th>PTRATIO</th>\n",
       "      <th>LSTAT</th>\n",
       "      <th>Price</th>\n",
       "    </tr>\n",
       "  </thead>\n",
       "  <tbody>\n",
       "    <tr>\n",
       "      <th>0</th>\n",
       "      <td>0.00632</td>\n",
       "      <td>2.31</td>\n",
       "      <td>0.538</td>\n",
       "      <td>6.575</td>\n",
       "      <td>65.2</td>\n",
       "      <td>296.0</td>\n",
       "      <td>15.3</td>\n",
       "      <td>4.98</td>\n",
       "      <td>24.0</td>\n",
       "    </tr>\n",
       "    <tr>\n",
       "      <th>1</th>\n",
       "      <td>0.02731</td>\n",
       "      <td>7.07</td>\n",
       "      <td>0.469</td>\n",
       "      <td>6.421</td>\n",
       "      <td>78.9</td>\n",
       "      <td>242.0</td>\n",
       "      <td>17.8</td>\n",
       "      <td>9.14</td>\n",
       "      <td>21.6</td>\n",
       "    </tr>\n",
       "    <tr>\n",
       "      <th>2</th>\n",
       "      <td>0.02729</td>\n",
       "      <td>7.07</td>\n",
       "      <td>0.469</td>\n",
       "      <td>7.185</td>\n",
       "      <td>61.1</td>\n",
       "      <td>242.0</td>\n",
       "      <td>17.8</td>\n",
       "      <td>4.03</td>\n",
       "      <td>34.7</td>\n",
       "    </tr>\n",
       "    <tr>\n",
       "      <th>3</th>\n",
       "      <td>0.03237</td>\n",
       "      <td>2.18</td>\n",
       "      <td>0.458</td>\n",
       "      <td>6.998</td>\n",
       "      <td>45.8</td>\n",
       "      <td>222.0</td>\n",
       "      <td>18.7</td>\n",
       "      <td>2.94</td>\n",
       "      <td>33.4</td>\n",
       "    </tr>\n",
       "    <tr>\n",
       "      <th>4</th>\n",
       "      <td>0.06905</td>\n",
       "      <td>2.18</td>\n",
       "      <td>0.458</td>\n",
       "      <td>7.147</td>\n",
       "      <td>54.2</td>\n",
       "      <td>222.0</td>\n",
       "      <td>18.7</td>\n",
       "      <td>5.33</td>\n",
       "      <td>36.2</td>\n",
       "    </tr>\n",
       "    <tr>\n",
       "      <th>...</th>\n",
       "      <td>...</td>\n",
       "      <td>...</td>\n",
       "      <td>...</td>\n",
       "      <td>...</td>\n",
       "      <td>...</td>\n",
       "      <td>...</td>\n",
       "      <td>...</td>\n",
       "      <td>...</td>\n",
       "      <td>...</td>\n",
       "    </tr>\n",
       "    <tr>\n",
       "      <th>501</th>\n",
       "      <td>0.06263</td>\n",
       "      <td>11.93</td>\n",
       "      <td>0.573</td>\n",
       "      <td>6.593</td>\n",
       "      <td>69.1</td>\n",
       "      <td>273.0</td>\n",
       "      <td>21.0</td>\n",
       "      <td>9.67</td>\n",
       "      <td>22.4</td>\n",
       "    </tr>\n",
       "    <tr>\n",
       "      <th>502</th>\n",
       "      <td>0.04527</td>\n",
       "      <td>11.93</td>\n",
       "      <td>0.573</td>\n",
       "      <td>6.120</td>\n",
       "      <td>76.7</td>\n",
       "      <td>273.0</td>\n",
       "      <td>21.0</td>\n",
       "      <td>9.08</td>\n",
       "      <td>20.6</td>\n",
       "    </tr>\n",
       "    <tr>\n",
       "      <th>503</th>\n",
       "      <td>0.06076</td>\n",
       "      <td>11.93</td>\n",
       "      <td>0.573</td>\n",
       "      <td>6.976</td>\n",
       "      <td>91.0</td>\n",
       "      <td>273.0</td>\n",
       "      <td>21.0</td>\n",
       "      <td>5.64</td>\n",
       "      <td>23.9</td>\n",
       "    </tr>\n",
       "    <tr>\n",
       "      <th>504</th>\n",
       "      <td>0.10959</td>\n",
       "      <td>11.93</td>\n",
       "      <td>0.573</td>\n",
       "      <td>6.794</td>\n",
       "      <td>89.3</td>\n",
       "      <td>273.0</td>\n",
       "      <td>21.0</td>\n",
       "      <td>6.48</td>\n",
       "      <td>22.0</td>\n",
       "    </tr>\n",
       "    <tr>\n",
       "      <th>505</th>\n",
       "      <td>0.04741</td>\n",
       "      <td>11.93</td>\n",
       "      <td>0.573</td>\n",
       "      <td>6.030</td>\n",
       "      <td>80.8</td>\n",
       "      <td>273.0</td>\n",
       "      <td>21.0</td>\n",
       "      <td>7.88</td>\n",
       "      <td>11.9</td>\n",
       "    </tr>\n",
       "  </tbody>\n",
       "</table>\n",
       "<p>506 rows × 9 columns</p>\n",
       "</div>"
      ],
      "text/plain": [
       "        CRIM  INDUS    NOX     RM   AGE    TAX  PTRATIO  LSTAT  Price\n",
       "0    0.00632   2.31  0.538  6.575  65.2  296.0     15.3   4.98   24.0\n",
       "1    0.02731   7.07  0.469  6.421  78.9  242.0     17.8   9.14   21.6\n",
       "2    0.02729   7.07  0.469  7.185  61.1  242.0     17.8   4.03   34.7\n",
       "3    0.03237   2.18  0.458  6.998  45.8  222.0     18.7   2.94   33.4\n",
       "4    0.06905   2.18  0.458  7.147  54.2  222.0     18.7   5.33   36.2\n",
       "..       ...    ...    ...    ...   ...    ...      ...    ...    ...\n",
       "501  0.06263  11.93  0.573  6.593  69.1  273.0     21.0   9.67   22.4\n",
       "502  0.04527  11.93  0.573  6.120  76.7  273.0     21.0   9.08   20.6\n",
       "503  0.06076  11.93  0.573  6.976  91.0  273.0     21.0   5.64   23.9\n",
       "504  0.10959  11.93  0.573  6.794  89.3  273.0     21.0   6.48   22.0\n",
       "505  0.04741  11.93  0.573  6.030  80.8  273.0     21.0   7.88   11.9\n",
       "\n",
       "[506 rows x 9 columns]"
      ]
     },
     "execution_count": 20,
     "metadata": {},
     "output_type": "execute_result"
    }
   ],
   "source": [
    "df.drop(columns=['ZN','CHAS','DIS','RAD','B'],inplace=True)\n",
    "df"
   ]
  },
  {
   "cell_type": "markdown",
   "metadata": {},
   "source": [
    "<hr>\n",
    "\n",
    "## MACHINE LEARNING\n",
    "- Purpose: to predict (answer) from new data (problems)\n",
    "- New Data: data not in dataset, never been learned by the (study) Model, never been seen and pattern never been known\n",
    "\n",
    "### - MODEL\n",
    "- (Study) Training Model -> model that studied pattern in the data\n",
    "- Training Model Process -> **.fit(X,y)** -> *.fit(Question(s),Answer)*\n",
    "    - Question(s) -> Features -> X -> Independent Variable(s)\n",
    "    - Answer(s) -> Target -> y -> Dependent Variable\n",
    "\n",
    "### - EVALUATION MATRIX\n",
    "- To score how well does our model could predict the 'Answer' -> by comparing 'Modelled Answer' with 'Answer Key'\n",
    "    - Answer Key -> actual data (target)\n",
    "    - Modelled Answer -> prediction from Model\n",
    "\n",
    "### - SPLITTING DATA\n",
    "- Dataset splitted into 2 purposes:\n",
    "    1. Data for Training (Study)\n",
    "        - Data used by Model to study the pattern -> Model already know the features and target because it has been the data before\n",
    "    2. Data for Testing -> for simulation of new data\n",
    "        - Never been seen by Model, will be studied by Model and to be predicted as new data simulation\n",
    "\n",
    "- For instance:\n",
    "    - We had dataset (100%), splitted into \n",
    "        1. Training Data (80%) to be studied by Model -> Model study the Pattern between Features (X) and Target (y) -> ex: Try Out Practice \n",
    "        2. The rest (20%) to be used as prediction and to formulate Evaluation Matrix -> ex: Real Test\n",
    "\n",
    "- In the ideal case, train and test data distribution ranged from 70%-85% for Train means the rest 15%-30% for Test Data.\n",
    "\n",
    "### - GOALS\n",
    "Goals for **Supervised** Machine Learning generally to produce the greatest *score* of Evaluation Matrix as possible.\n",
    " - Underfitting -> both score for Evaluation Matrix using training data or testing data are **bad** (will be elaborate later on what is a bad Evaluation Matrix score)\n",
    " - Overfitting -> Evaluation Matrix score for training data is good, but when Model implemented to testing data, the score is **bad** (significant discrepancies of Evaluation Matrix score for both data about ~>5%)\n",
    " - Fit (ideal) -> Difference between Evaluation Matrix score for training data and testing data is insignificant\n",
    "\n",
    " ### EXAMPLE\n",
    " 1. Model A:\n",
    "    - Evaluation Matrix Train: 93\n",
    "    - Evaluation Matrix Test: 83\n",
    "    \n",
    "2. Model B:\n",
    "    - Evaluation Matrix Train: 84\n",
    "    - Evaluation Matrix Test: 81\n",
    "\n",
    "- Decision: \n",
    "    - Choose Model B because more stable and difference is below <5\n",
    "    - Model A is overfitting\n",
    "    - Actually, even though model B produce stable outcome and fit, in the real case, management/client may request for minimum score for each evaluation matrix (90 or above). Therefore, fit Model does not always translate into \"good Model\" because there is a possibility of a fit Model may not suffice user's requirement."
   ]
  },
  {
   "cell_type": "markdown",
   "metadata": {},
   "source": [
    "<hr>\n",
    "\n",
    "## SPLITTING DATASET"
   ]
  },
  {
   "cell_type": "code",
   "execution_count": 21,
   "metadata": {},
   "outputs": [],
   "source": [
    "## Assign independent variable/feature to X and dependent variable/target to y\n",
    "X=df.drop(columns='Price')\n",
    "y=df['Price']"
   ]
  },
  {
   "cell_type": "code",
   "execution_count": 22,
   "metadata": {},
   "outputs": [],
   "source": [
    "## import package\n",
    "from sklearn.model_selection import train_test_split"
   ]
  },
  {
   "cell_type": "code",
   "execution_count": 23,
   "metadata": {},
   "outputs": [],
   "source": [
    "## split into training set and testing set with proportion of 85%:15%\n",
    "X_train, X_test, y_train, y_test = train_test_split(X,y,test_size=.15,random_state=8) \n",
    "# test_size = data proportion -> fill with data row or % -> example for data row 500 -> choose 500 data randomly for training, the rest for test"
   ]
  },
  {
   "cell_type": "code",
   "execution_count": 24,
   "metadata": {},
   "outputs": [
    {
     "data": {
      "text/html": [
       "<div>\n",
       "<style scoped>\n",
       "    .dataframe tbody tr th:only-of-type {\n",
       "        vertical-align: middle;\n",
       "    }\n",
       "\n",
       "    .dataframe tbody tr th {\n",
       "        vertical-align: top;\n",
       "    }\n",
       "\n",
       "    .dataframe thead th {\n",
       "        text-align: right;\n",
       "    }\n",
       "</style>\n",
       "<table border=\"1\" class=\"dataframe\">\n",
       "  <thead>\n",
       "    <tr style=\"text-align: right;\">\n",
       "      <th></th>\n",
       "      <th>CRIM</th>\n",
       "      <th>INDUS</th>\n",
       "      <th>NOX</th>\n",
       "      <th>RM</th>\n",
       "      <th>AGE</th>\n",
       "      <th>TAX</th>\n",
       "      <th>PTRATIO</th>\n",
       "      <th>LSTAT</th>\n",
       "    </tr>\n",
       "  </thead>\n",
       "  <tbody>\n",
       "    <tr>\n",
       "      <th>298</th>\n",
       "      <td>0.06466</td>\n",
       "      <td>2.24</td>\n",
       "      <td>0.400</td>\n",
       "      <td>6.345</td>\n",
       "      <td>20.1</td>\n",
       "      <td>358.0</td>\n",
       "      <td>14.8</td>\n",
       "      <td>4.97</td>\n",
       "    </tr>\n",
       "    <tr>\n",
       "      <th>68</th>\n",
       "      <td>0.13554</td>\n",
       "      <td>6.07</td>\n",
       "      <td>0.409</td>\n",
       "      <td>5.594</td>\n",
       "      <td>36.8</td>\n",
       "      <td>345.0</td>\n",
       "      <td>18.9</td>\n",
       "      <td>13.09</td>\n",
       "    </tr>\n",
       "    <tr>\n",
       "      <th>496</th>\n",
       "      <td>0.28960</td>\n",
       "      <td>9.69</td>\n",
       "      <td>0.585</td>\n",
       "      <td>5.390</td>\n",
       "      <td>72.9</td>\n",
       "      <td>391.0</td>\n",
       "      <td>19.2</td>\n",
       "      <td>21.14</td>\n",
       "    </tr>\n",
       "    <tr>\n",
       "      <th>153</th>\n",
       "      <td>2.14918</td>\n",
       "      <td>19.58</td>\n",
       "      <td>0.871</td>\n",
       "      <td>5.709</td>\n",
       "      <td>98.5</td>\n",
       "      <td>403.0</td>\n",
       "      <td>14.7</td>\n",
       "      <td>15.79</td>\n",
       "    </tr>\n",
       "    <tr>\n",
       "      <th>33</th>\n",
       "      <td>1.15172</td>\n",
       "      <td>8.14</td>\n",
       "      <td>0.538</td>\n",
       "      <td>5.701</td>\n",
       "      <td>95.0</td>\n",
       "      <td>307.0</td>\n",
       "      <td>21.0</td>\n",
       "      <td>18.35</td>\n",
       "    </tr>\n",
       "  </tbody>\n",
       "</table>\n",
       "</div>"
      ],
      "text/plain": [
       "        CRIM  INDUS    NOX     RM   AGE    TAX  PTRATIO  LSTAT\n",
       "298  0.06466   2.24  0.400  6.345  20.1  358.0     14.8   4.97\n",
       "68   0.13554   6.07  0.409  5.594  36.8  345.0     18.9  13.09\n",
       "496  0.28960   9.69  0.585  5.390  72.9  391.0     19.2  21.14\n",
       "153  2.14918  19.58  0.871  5.709  98.5  403.0     14.7  15.79\n",
       "33   1.15172   8.14  0.538  5.701  95.0  307.0     21.0  18.35"
      ]
     },
     "execution_count": 24,
     "metadata": {},
     "output_type": "execute_result"
    }
   ],
   "source": [
    "## Question for Mock-Up Test\n",
    "X_train.head()"
   ]
  },
  {
   "cell_type": "code",
   "execution_count": 25,
   "metadata": {},
   "outputs": [
    {
     "data": {
      "text/html": [
       "<div>\n",
       "<style scoped>\n",
       "    .dataframe tbody tr th:only-of-type {\n",
       "        vertical-align: middle;\n",
       "    }\n",
       "\n",
       "    .dataframe tbody tr th {\n",
       "        vertical-align: top;\n",
       "    }\n",
       "\n",
       "    .dataframe thead th {\n",
       "        text-align: right;\n",
       "    }\n",
       "</style>\n",
       "<table border=\"1\" class=\"dataframe\">\n",
       "  <thead>\n",
       "    <tr style=\"text-align: right;\">\n",
       "      <th></th>\n",
       "      <th>CRIM</th>\n",
       "      <th>INDUS</th>\n",
       "      <th>NOX</th>\n",
       "      <th>RM</th>\n",
       "      <th>AGE</th>\n",
       "      <th>TAX</th>\n",
       "      <th>PTRATIO</th>\n",
       "      <th>LSTAT</th>\n",
       "    </tr>\n",
       "  </thead>\n",
       "  <tbody>\n",
       "    <tr>\n",
       "      <th>337</th>\n",
       "      <td>0.03041</td>\n",
       "      <td>5.19</td>\n",
       "      <td>0.515</td>\n",
       "      <td>5.895</td>\n",
       "      <td>59.6</td>\n",
       "      <td>224.0</td>\n",
       "      <td>20.2</td>\n",
       "      <td>10.56</td>\n",
       "    </tr>\n",
       "    <tr>\n",
       "      <th>30</th>\n",
       "      <td>1.13081</td>\n",
       "      <td>8.14</td>\n",
       "      <td>0.538</td>\n",
       "      <td>5.713</td>\n",
       "      <td>94.1</td>\n",
       "      <td>307.0</td>\n",
       "      <td>21.0</td>\n",
       "      <td>22.60</td>\n",
       "    </tr>\n",
       "    <tr>\n",
       "      <th>364</th>\n",
       "      <td>3.47428</td>\n",
       "      <td>18.10</td>\n",
       "      <td>0.718</td>\n",
       "      <td>8.780</td>\n",
       "      <td>82.9</td>\n",
       "      <td>666.0</td>\n",
       "      <td>20.2</td>\n",
       "      <td>5.29</td>\n",
       "    </tr>\n",
       "    <tr>\n",
       "      <th>240</th>\n",
       "      <td>0.11329</td>\n",
       "      <td>4.93</td>\n",
       "      <td>0.428</td>\n",
       "      <td>6.897</td>\n",
       "      <td>54.3</td>\n",
       "      <td>300.0</td>\n",
       "      <td>16.6</td>\n",
       "      <td>11.38</td>\n",
       "    </tr>\n",
       "    <tr>\n",
       "      <th>162</th>\n",
       "      <td>1.83377</td>\n",
       "      <td>19.58</td>\n",
       "      <td>0.605</td>\n",
       "      <td>7.802</td>\n",
       "      <td>98.2</td>\n",
       "      <td>403.0</td>\n",
       "      <td>14.7</td>\n",
       "      <td>1.92</td>\n",
       "    </tr>\n",
       "  </tbody>\n",
       "</table>\n",
       "</div>"
      ],
      "text/plain": [
       "        CRIM  INDUS    NOX     RM   AGE    TAX  PTRATIO  LSTAT\n",
       "337  0.03041   5.19  0.515  5.895  59.6  224.0     20.2  10.56\n",
       "30   1.13081   8.14  0.538  5.713  94.1  307.0     21.0  22.60\n",
       "364  3.47428  18.10  0.718  8.780  82.9  666.0     20.2   5.29\n",
       "240  0.11329   4.93  0.428  6.897  54.3  300.0     16.6  11.38\n",
       "162  1.83377  19.58  0.605  7.802  98.2  403.0     14.7   1.92"
      ]
     },
     "execution_count": 25,
     "metadata": {},
     "output_type": "execute_result"
    }
   ],
   "source": [
    "## Question for Real Test\n",
    "X_test.head()"
   ]
  },
  {
   "cell_type": "code",
   "execution_count": 26,
   "metadata": {},
   "outputs": [
    {
     "data": {
      "text/plain": [
       "298    22.5\n",
       "68     17.4\n",
       "496    19.7\n",
       "153    19.4\n",
       "33     13.1\n",
       "Name: Price, dtype: float64"
      ]
     },
     "execution_count": 26,
     "metadata": {},
     "output_type": "execute_result"
    }
   ],
   "source": [
    "## Answer Key for Mock-Up Test\n",
    "y_train.head()"
   ]
  },
  {
   "cell_type": "code",
   "execution_count": 27,
   "metadata": {},
   "outputs": [
    {
     "data": {
      "text/plain": [
       "337    18.5\n",
       "30     12.7\n",
       "364    21.9\n",
       "240    22.0\n",
       "162    50.0\n",
       "Name: Price, dtype: float64"
      ]
     },
     "execution_count": 27,
     "metadata": {},
     "output_type": "execute_result"
    }
   ],
   "source": [
    "## Answer Key for Real Test\n",
    "y_test.head()"
   ]
  },
  {
   "cell_type": "code",
   "execution_count": 28,
   "metadata": {},
   "outputs": [
    {
     "data": {
      "text/plain": [
       "(430, 8)"
      ]
     },
     "execution_count": 28,
     "metadata": {},
     "output_type": "execute_result"
    }
   ],
   "source": [
    "## Shape of Mock-Up Test Question\n",
    "X_train.shape"
   ]
  },
  {
   "cell_type": "code",
   "execution_count": 29,
   "metadata": {},
   "outputs": [
    {
     "data": {
      "text/plain": [
       "(76, 8)"
      ]
     },
     "execution_count": 29,
     "metadata": {},
     "output_type": "execute_result"
    }
   ],
   "source": [
    "## Shape of Real Test Question\n",
    "X_test.shape"
   ]
  },
  {
   "cell_type": "markdown",
   "metadata": {},
   "source": [
    "<hr>\n",
    "\n",
    "## Machine Learning Modelling"
   ]
  },
  {
   "cell_type": "code",
   "execution_count": 30,
   "metadata": {},
   "outputs": [],
   "source": [
    "## import package\n",
    "from sklearn.linear_model import LinearRegression"
   ]
  },
  {
   "cell_type": "code",
   "execution_count": 31,
   "metadata": {},
   "outputs": [],
   "source": [
    "## Build Model with Linear Regression\n",
    "Model = LinearRegression(fit_intercept=True)\n",
    "# fit_intercept=False means constanta value (b) = 0, so target will has value of 0 when all features have value 0\n",
    "## usage of fit_intercept depends on business condition/cases and independent variable (y)\n",
    "### we assume all features will not have 0 value even though house price is 0"
   ]
  },
  {
   "cell_type": "code",
   "execution_count": 32,
   "metadata": {},
   "outputs": [
    {
     "data": {
      "text/html": [
       "<style>#sk-container-id-1 {color: black;background-color: white;}#sk-container-id-1 pre{padding: 0;}#sk-container-id-1 div.sk-toggleable {background-color: white;}#sk-container-id-1 label.sk-toggleable__label {cursor: pointer;display: block;width: 100%;margin-bottom: 0;padding: 0.3em;box-sizing: border-box;text-align: center;}#sk-container-id-1 label.sk-toggleable__label-arrow:before {content: \"▸\";float: left;margin-right: 0.25em;color: #696969;}#sk-container-id-1 label.sk-toggleable__label-arrow:hover:before {color: black;}#sk-container-id-1 div.sk-estimator:hover label.sk-toggleable__label-arrow:before {color: black;}#sk-container-id-1 div.sk-toggleable__content {max-height: 0;max-width: 0;overflow: hidden;text-align: left;background-color: #f0f8ff;}#sk-container-id-1 div.sk-toggleable__content pre {margin: 0.2em;color: black;border-radius: 0.25em;background-color: #f0f8ff;}#sk-container-id-1 input.sk-toggleable__control:checked~div.sk-toggleable__content {max-height: 200px;max-width: 100%;overflow: auto;}#sk-container-id-1 input.sk-toggleable__control:checked~label.sk-toggleable__label-arrow:before {content: \"▾\";}#sk-container-id-1 div.sk-estimator input.sk-toggleable__control:checked~label.sk-toggleable__label {background-color: #d4ebff;}#sk-container-id-1 div.sk-label input.sk-toggleable__control:checked~label.sk-toggleable__label {background-color: #d4ebff;}#sk-container-id-1 input.sk-hidden--visually {border: 0;clip: rect(1px 1px 1px 1px);clip: rect(1px, 1px, 1px, 1px);height: 1px;margin: -1px;overflow: hidden;padding: 0;position: absolute;width: 1px;}#sk-container-id-1 div.sk-estimator {font-family: monospace;background-color: #f0f8ff;border: 1px dotted black;border-radius: 0.25em;box-sizing: border-box;margin-bottom: 0.5em;}#sk-container-id-1 div.sk-estimator:hover {background-color: #d4ebff;}#sk-container-id-1 div.sk-parallel-item::after {content: \"\";width: 100%;border-bottom: 1px solid gray;flex-grow: 1;}#sk-container-id-1 div.sk-label:hover label.sk-toggleable__label {background-color: #d4ebff;}#sk-container-id-1 div.sk-serial::before {content: \"\";position: absolute;border-left: 1px solid gray;box-sizing: border-box;top: 0;bottom: 0;left: 50%;z-index: 0;}#sk-container-id-1 div.sk-serial {display: flex;flex-direction: column;align-items: center;background-color: white;padding-right: 0.2em;padding-left: 0.2em;position: relative;}#sk-container-id-1 div.sk-item {position: relative;z-index: 1;}#sk-container-id-1 div.sk-parallel {display: flex;align-items: stretch;justify-content: center;background-color: white;position: relative;}#sk-container-id-1 div.sk-item::before, #sk-container-id-1 div.sk-parallel-item::before {content: \"\";position: absolute;border-left: 1px solid gray;box-sizing: border-box;top: 0;bottom: 0;left: 50%;z-index: -1;}#sk-container-id-1 div.sk-parallel-item {display: flex;flex-direction: column;z-index: 1;position: relative;background-color: white;}#sk-container-id-1 div.sk-parallel-item:first-child::after {align-self: flex-end;width: 50%;}#sk-container-id-1 div.sk-parallel-item:last-child::after {align-self: flex-start;width: 50%;}#sk-container-id-1 div.sk-parallel-item:only-child::after {width: 0;}#sk-container-id-1 div.sk-dashed-wrapped {border: 1px dashed gray;margin: 0 0.4em 0.5em 0.4em;box-sizing: border-box;padding-bottom: 0.4em;background-color: white;}#sk-container-id-1 div.sk-label label {font-family: monospace;font-weight: bold;display: inline-block;line-height: 1.2em;}#sk-container-id-1 div.sk-label-container {text-align: center;}#sk-container-id-1 div.sk-container {/* jupyter's `normalize.less` sets `[hidden] { display: none; }` but bootstrap.min.css set `[hidden] { display: none !important; }` so we also need the `!important` here to be able to override the default hidden behavior on the sphinx rendered scikit-learn.org. See: https://github.com/scikit-learn/scikit-learn/issues/21755 */display: inline-block !important;position: relative;}#sk-container-id-1 div.sk-text-repr-fallback {display: none;}</style><div id=\"sk-container-id-1\" class=\"sk-top-container\"><div class=\"sk-text-repr-fallback\"><pre>LinearRegression()</pre><b>In a Jupyter environment, please rerun this cell to show the HTML representation or trust the notebook. <br />On GitHub, the HTML representation is unable to render, please try loading this page with nbviewer.org.</b></div><div class=\"sk-container\" hidden><div class=\"sk-item\"><div class=\"sk-estimator sk-toggleable\"><input class=\"sk-toggleable__control sk-hidden--visually\" id=\"sk-estimator-id-1\" type=\"checkbox\" checked><label for=\"sk-estimator-id-1\" class=\"sk-toggleable__label sk-toggleable__label-arrow\">LinearRegression</label><div class=\"sk-toggleable__content\"><pre>LinearRegression()</pre></div></div></div></div></div>"
      ],
      "text/plain": [
       "LinearRegression()"
      ]
     },
     "execution_count": 32,
     "metadata": {},
     "output_type": "execute_result"
    }
   ],
   "source": [
    "# Learning Mode -> finding pattern from question-answer of Training Data\n",
    "Model.fit(X_train,y_train)"
   ]
  },
  {
   "cell_type": "code",
   "execution_count": 33,
   "metadata": {},
   "outputs": [
    {
     "data": {
      "text/plain": [
       "0.6931397182159605"
      ]
     },
     "execution_count": 33,
     "metadata": {},
     "output_type": "execute_result"
    }
   ],
   "source": [
    "## QUICK EVALUATION MATRIX - Training Data\n",
    "Model.score(X_train,y_train)\n",
    "# Check Evaluation Matrix score of Training Data"
   ]
  },
  {
   "cell_type": "code",
   "execution_count": 34,
   "metadata": {},
   "outputs": [
    {
     "data": {
      "text/plain": [
       "0.6362367832355484"
      ]
     },
     "execution_count": 34,
     "metadata": {},
     "output_type": "execute_result"
    }
   ],
   "source": [
    "## QUICK EVALUATION MATRIX - Test Data\n",
    "Model.score(X_test,y_test)\n",
    "# Check Evaluation Matrix score of Test Data"
   ]
  },
  {
   "cell_type": "code",
   "execution_count": 35,
   "metadata": {},
   "outputs": [
    {
     "data": {
      "text/plain": [
       "array([30.28293062, 18.72273928, 12.9477843 , 21.47917065, 14.95890191,\n",
       "        3.58200036, 14.19124961, 23.35025631, 19.35500691, 31.04458353,\n",
       "       16.49716494, 12.75154295, 27.07355077, 31.59739533, 21.83292028,\n",
       "       22.70332871, 30.11961514, 32.50703653, 18.22839889, 30.63150702,\n",
       "       21.94467111, 24.57289026, 22.77783979, 15.67085757,  0.7667683 ,\n",
       "       28.41303216,  0.39830966, 38.89920947, 33.96509303, 26.66478313,\n",
       "       20.63939197, 23.92672508, 27.59687608, 29.713177  , 16.29998859,\n",
       "       19.83225735, 39.87581772, 10.39622747, 21.31016924, 20.00803487,\n",
       "       38.23805478, 14.14122618, 24.36427216, 21.73500701, 28.20216403,\n",
       "       28.28743397, 17.81294284, 25.41208932, 24.49722379, 16.63403918,\n",
       "       24.87017934, 29.2373735 , 37.84800486,  7.04791954, 24.64694627,\n",
       "       39.64239435, 28.86363763, 29.79917199, 19.48423179, 11.49630654,\n",
       "       18.52754611,  9.62698857, 24.53889975, 19.14013188, 27.96006475,\n",
       "       32.61343669, 27.08760364, 30.13315595, 35.66269411, 23.10165366,\n",
       "       20.71973948, 20.58216335, 24.79674868, 22.6108986 , 17.49904299,\n",
       "       28.36010761, 18.15495824, 24.8369594 , 17.49693837,  2.3209145 ,\n",
       "       25.26020517, 14.74754606, 16.07034094, 16.40053483, 28.50272504,\n",
       "        5.88213492, 22.6310973 , 17.17731828, 29.00359742, 24.89382961,\n",
       "       31.78642326, 23.84575727, 18.8867649 , 17.46774487, 33.50129719,\n",
       "       17.5154809 , 17.71062003, 28.4453593 , 18.12817974, 36.98866067,\n",
       "       28.3184077 , 26.58749482, 27.15318706, 11.84690175, 24.97354268,\n",
       "       16.29007155, 20.6899852 , 15.03655817, 30.91135211, 23.99710479,\n",
       "       18.60331944, 27.78898175, 19.19420497, 35.80996463, 22.29309132,\n",
       "       24.1361685 , 31.696245  , 32.60061522, 16.92165216, 17.6089608 ,\n",
       "       18.06588284, 15.00941557, 22.08023796, 18.08317057, 38.01473148,\n",
       "       13.94129294, 22.49482464, 24.6780642 ,  8.82329994, 10.19978857,\n",
       "       31.1935854 , 28.01503522, 21.33217855, 37.40651927,  7.29814888,\n",
       "       25.40894168, 27.08039118,  5.06837054, 11.73157177,  6.60513957,\n",
       "       20.58730995, 18.42283903, 25.29948483, 16.82247999, 18.56772796,\n",
       "       29.7413002 , 22.65869071, 26.3003799 , 15.58778934, 19.60108472,\n",
       "       27.25284629, 10.71435526, 13.88790706, 21.84306824, 19.03885966,\n",
       "       -3.50066191, 31.38953966, 32.59311289, 20.56067272, 21.87301263,\n",
       "       41.83985221, 24.69519597, 35.39553667, 29.03293769, 37.82786792,\n",
       "       31.37374051, 14.04354234, 33.71389537, 34.14031896, 15.56390705,\n",
       "       26.13473437, 21.65599314, 22.38985505, 18.58758821, 28.45634975,\n",
       "       24.90054415, 18.58099094, 31.19298093, 29.03254448, 22.23122712,\n",
       "       26.65412038, 26.22233883, 24.65345358, 20.47487705, 25.70994685,\n",
       "       28.30497218, 24.11075898, 38.1738285 , 20.88552694, 33.57069109,\n",
       "       19.97932862, 33.42029711, 26.15505672, 17.48266167, 23.33834369,\n",
       "       16.88152669, 20.03537857, 14.83360704, 19.26946174, 31.94847832,\n",
       "       17.35911578, 14.67501951, 25.5228511 , 41.36274236, 26.8578342 ,\n",
       "       25.82905832, 15.48729533, 18.49063522, 24.38967696, 20.53530029,\n",
       "       13.52372964, 19.96888272, 18.3418125 , 25.4190772 , -4.20708769,\n",
       "       23.33129293, 17.40668878, 25.74002192, 43.09217621, 36.57880904,\n",
       "       11.57189336, 19.99285516, 19.01236029, 16.24894499, 25.51573293,\n",
       "       30.4920586 , 22.35946922, 18.09295479, 33.18451186, 23.06616635,\n",
       "       35.93533583, 19.3659444 , 23.60912556, 28.52219162, 25.81197155,\n",
       "       13.27037092, 20.76046965, 10.27223716, 15.6756832 , 17.94502419,\n",
       "       31.66606612, 39.74503899, 30.64762552,  4.88399699, 17.8419842 ,\n",
       "       19.39847784, 25.78143051, 19.97962899,  3.40248533, 20.58070553,\n",
       "       21.20351243, 23.90213232, 39.18402997, 20.89933882,  7.67142192,\n",
       "       29.66920104, 23.03142515, 25.69758865, 29.54866657, 28.58614282,\n",
       "       24.96317139, 16.27153944, 30.88310228, 18.63957782, 17.56137958,\n",
       "       22.28403674, 18.76165608, 17.03203504, 11.49514952, 21.18121222,\n",
       "       13.51196897, 17.03884638, 22.93408212, 21.77344447, 19.09811561,\n",
       "       21.21432361, 21.32299863, 28.31835483,  8.08139428, 27.61711819,\n",
       "       30.65238635, 38.50735385, 20.15494668, 31.16243444, 15.29872899,\n",
       "       34.89060883, 27.41744432, 28.719949  , 34.767615  , 18.38289184,\n",
       "       33.8588205 , 39.50820664, 24.33272874, 21.40364612, 34.72283275,\n",
       "       20.47857691, 19.81491421, 32.43803943, 38.74821846, 25.09434528,\n",
       "        9.79523811, 28.22723013, 32.21462907, 17.04069819, 20.57065332,\n",
       "       25.04516208, 16.76225728, 24.47150517, 20.41480549, 21.04072991,\n",
       "       28.21396775, 23.79563783, 14.51871234, 25.05625306, 29.03424708,\n",
       "       24.415625  , 39.72727098, 24.76391227,  9.72981098, 19.61802302,\n",
       "       23.60016693, 24.22502058, 24.78674227, 20.35302959, 37.78746842,\n",
       "       23.80817264, 34.99244256, 24.60894982, 31.83330314, 16.96842136,\n",
       "       29.51552514, 19.70267379, 26.91727481, 20.00441481, 23.79197292,\n",
       "       20.14409288, 21.4981542 , 11.20364586, 30.00498613, 15.44321279,\n",
       "       18.71463501, 23.07035919, 21.85780693, 10.97325121, 22.18418838,\n",
       "       26.51435468, 31.00981772, 27.98087078, 15.78818663, 16.79641336,\n",
       "       19.7677758 , 18.73252407, 13.82047053, 16.19014193, 21.39118538,\n",
       "       11.44469112, 26.3213002 , 26.78876895,  9.12408709, 28.67415104,\n",
       "       15.80321437, 13.9077603 , 20.79157446, 31.09305658, 17.02901297,\n",
       "       32.70416294, 14.44415001, 15.9669426 , 25.39473209, 16.53315655,\n",
       "       19.29403566, 28.60584864, 21.82062345, 31.84366378, 18.71080917,\n",
       "       27.62042898, 12.8510663 , 19.88025789, 21.1695065 , 25.31793928,\n",
       "       27.4357097 , 25.18972591, 17.22837551, 27.41890935, 16.72237194,\n",
       "       29.24943055, 22.41435127, 20.3755408 , 23.3079909 , 18.10932345,\n",
       "       22.00777669, 24.07244072, 21.83289561, 20.33459001, 23.26995164,\n",
       "       11.54926379, 18.12628057, 25.75594241, 25.2805123 , 12.08289675,\n",
       "       28.00568151, 22.65579928, 20.24540665, 16.49712873, 21.19294112,\n",
       "       18.60654003, 27.97368268, 14.01022793, 19.96287365, 18.81410917,\n",
       "       20.60281541, 22.26445006, 23.480108  , 18.430932  , 20.36812666,\n",
       "       19.25651855, 18.19266627, 27.93857384, 11.82326958,  9.55376066,\n",
       "       31.94698375, 23.92409153, 21.0687221 , 16.78357601, 14.15692362,\n",
       "       17.4007299 , 19.57171212, 18.88965611, 21.56061532, 19.58426257])"
      ]
     },
     "execution_count": 35,
     "metadata": {},
     "output_type": "execute_result"
    }
   ],
   "source": [
    "## Set Model to predict Answer for Mock Up Test\n",
    "Model.predict(X_train)"
   ]
  },
  {
   "cell_type": "code",
   "execution_count": 36,
   "metadata": {},
   "outputs": [
    {
     "data": {
      "text/plain": [
       "array([20.50582545, 12.46725002, 36.23112133, 28.06065089, 40.18702295,\n",
       "       24.63261533, 13.44020281, 30.68392827, 28.55866471, 30.23617052,\n",
       "       15.39892254,  4.40332104, 15.55684093, 23.70221877, 18.53306088,\n",
       "       29.59212573, 23.15857419, 21.94629854, 21.65208669,  6.63232485,\n",
       "       22.28604537, 27.91953014, 31.36359548, 33.48971972, 30.45134373,\n",
       "       31.80900657,  2.61308954, 17.01283145, 27.70003152, 23.7412566 ,\n",
       "       33.44428837, 18.15037051, 19.07476999, 22.41192249, 27.22943475,\n",
       "       26.13185735, 33.30549739, 25.9615366 , 14.55873061, 11.98492314,\n",
       "       19.32117528, 24.14387396, 34.96348631, 33.59926292, 29.18611367,\n",
       "       21.67489955, 17.23428769, 19.47662042, 23.745383  , 22.62602001,\n",
       "       21.22623411, 14.77604841, 31.52809258, 15.02452071, 20.59125377,\n",
       "       26.17424237, 20.23661409,  1.53793722, 19.60419261, 29.01321651,\n",
       "       27.1525987 , 20.10417387, 22.22661286, 11.35604616, 17.39468283,\n",
       "       21.24462801, 10.13908929, 19.87767821, 33.99280817, 36.6234833 ,\n",
       "       11.67476574, 27.51930585, 26.42990605, 31.10282745, 19.90904682,\n",
       "       26.82360923])"
      ]
     },
     "execution_count": 36,
     "metadata": {},
     "output_type": "execute_result"
    }
   ],
   "source": [
    "## Set Model to predict Answer for Real Test Question\n",
    "Model.predict(X_test)"
   ]
  },
  {
   "cell_type": "code",
   "execution_count": 37,
   "metadata": {},
   "outputs": [
    {
     "data": {
      "text/plain": [
       "20.115832202121155"
      ]
     },
     "execution_count": 37,
     "metadata": {},
     "output_type": "execute_result"
    }
   ],
   "source": [
    "## Constanta value \n",
    "Model.intercept_\n",
    "# Single Linear Regression: Y=ax+b -> b value\n",
    "# Multiple Linear Regression: Y=ax+bx2+cx3+dx5+......+Z -> Z value"
   ]
  },
  {
   "cell_type": "code",
   "execution_count": 38,
   "metadata": {},
   "outputs": [
    {
     "data": {
      "text/plain": [
       "array([-5.45727030e-02,  3.68513224e-02, -4.05892636e+00,  4.47903517e+00,\n",
       "        2.29732166e-02, -7.41893715e-04, -9.42582049e-01, -5.94321302e-01])"
      ]
     },
     "execution_count": 38,
     "metadata": {},
     "output_type": "execute_result"
    }
   ],
   "source": [
    "## Coefficient value\n",
    "Model.coef_\n",
    "# Single Linear Regression: Y=ax+b -> a value\n",
    "# Multiple Linear Regression: Y=ax+bx2+cx3+dx5+......+Z -> a,b,c,d value"
   ]
  },
  {
   "cell_type": "code",
   "execution_count": 39,
   "metadata": {},
   "outputs": [
    {
     "data": {
      "text/plain": [
       "Index(['CRIM', 'INDUS', 'NOX', 'RM', 'AGE', 'TAX', 'PTRATIO', 'LSTAT'], dtype='object')"
      ]
     },
     "execution_count": 39,
     "metadata": {},
     "output_type": "execute_result"
    }
   ],
   "source": [
    "## Define features for training set\n",
    "X_train.columns"
   ]
  },
  {
   "cell_type": "code",
   "execution_count": 40,
   "metadata": {},
   "outputs": [
    {
     "data": {
      "text/html": [
       "<div>\n",
       "<style scoped>\n",
       "    .dataframe tbody tr th:only-of-type {\n",
       "        vertical-align: middle;\n",
       "    }\n",
       "\n",
       "    .dataframe tbody tr th {\n",
       "        vertical-align: top;\n",
       "    }\n",
       "\n",
       "    .dataframe thead th {\n",
       "        text-align: right;\n",
       "    }\n",
       "</style>\n",
       "<table border=\"1\" class=\"dataframe\">\n",
       "  <thead>\n",
       "    <tr style=\"text-align: right;\">\n",
       "      <th></th>\n",
       "      <th>Coef</th>\n",
       "    </tr>\n",
       "  </thead>\n",
       "  <tbody>\n",
       "    <tr>\n",
       "      <th>CRIM</th>\n",
       "      <td>-0.054573</td>\n",
       "    </tr>\n",
       "    <tr>\n",
       "      <th>INDUS</th>\n",
       "      <td>0.036851</td>\n",
       "    </tr>\n",
       "    <tr>\n",
       "      <th>NOX</th>\n",
       "      <td>-4.058926</td>\n",
       "    </tr>\n",
       "    <tr>\n",
       "      <th>RM</th>\n",
       "      <td>4.479035</td>\n",
       "    </tr>\n",
       "    <tr>\n",
       "      <th>AGE</th>\n",
       "      <td>0.022973</td>\n",
       "    </tr>\n",
       "    <tr>\n",
       "      <th>TAX</th>\n",
       "      <td>-0.000742</td>\n",
       "    </tr>\n",
       "    <tr>\n",
       "      <th>PTRATIO</th>\n",
       "      <td>-0.942582</td>\n",
       "    </tr>\n",
       "    <tr>\n",
       "      <th>LSTAT</th>\n",
       "      <td>-0.594321</td>\n",
       "    </tr>\n",
       "  </tbody>\n",
       "</table>\n",
       "</div>"
      ],
      "text/plain": [
       "             Coef\n",
       "CRIM    -0.054573\n",
       "INDUS    0.036851\n",
       "NOX     -4.058926\n",
       "RM       4.479035\n",
       "AGE      0.022973\n",
       "TAX     -0.000742\n",
       "PTRATIO -0.942582\n",
       "LSTAT   -0.594321"
      ]
     },
     "execution_count": 40,
     "metadata": {},
     "output_type": "execute_result"
    }
   ],
   "source": [
    "## Present coefficient of every features in tabular\n",
    "pd.DataFrame(data=Model.coef_,index=X_train.columns,columns=['Coef'])"
   ]
  },
  {
   "cell_type": "markdown",
   "metadata": {},
   "source": [
    "## Multiple Regression\n",
    "### Y=ax+bx2+cx3+dx5+......+Z\n",
    "- a,b,c,d = coefficient\n",
    "- x,x2,x3,x4 = independent variables\n",
    "- Z = constanta \n",
    "\n",
    "#### Predicted Price\n",
    "> **Y = Z - aCRIM + bINDUS - cNOX + dRM + eAGE - fTAX - gPTRATIO - hLSTAT**"
   ]
  },
  {
   "cell_type": "code",
   "execution_count": 41,
   "metadata": {},
   "outputs": [
    {
     "data": {
      "text/html": [
       "<div>\n",
       "<style scoped>\n",
       "    .dataframe tbody tr th:only-of-type {\n",
       "        vertical-align: middle;\n",
       "    }\n",
       "\n",
       "    .dataframe tbody tr th {\n",
       "        vertical-align: top;\n",
       "    }\n",
       "\n",
       "    .dataframe thead th {\n",
       "        text-align: right;\n",
       "    }\n",
       "</style>\n",
       "<table border=\"1\" class=\"dataframe\">\n",
       "  <thead>\n",
       "    <tr style=\"text-align: right;\">\n",
       "      <th></th>\n",
       "      <th>CRIM</th>\n",
       "      <th>INDUS</th>\n",
       "      <th>NOX</th>\n",
       "      <th>RM</th>\n",
       "      <th>AGE</th>\n",
       "      <th>TAX</th>\n",
       "      <th>PTRATIO</th>\n",
       "      <th>LSTAT</th>\n",
       "    </tr>\n",
       "  </thead>\n",
       "  <tbody>\n",
       "    <tr>\n",
       "      <th>298</th>\n",
       "      <td>0.06466</td>\n",
       "      <td>2.24</td>\n",
       "      <td>0.400</td>\n",
       "      <td>6.345</td>\n",
       "      <td>20.1</td>\n",
       "      <td>358.0</td>\n",
       "      <td>14.8</td>\n",
       "      <td>4.97</td>\n",
       "    </tr>\n",
       "    <tr>\n",
       "      <th>68</th>\n",
       "      <td>0.13554</td>\n",
       "      <td>6.07</td>\n",
       "      <td>0.409</td>\n",
       "      <td>5.594</td>\n",
       "      <td>36.8</td>\n",
       "      <td>345.0</td>\n",
       "      <td>18.9</td>\n",
       "      <td>13.09</td>\n",
       "    </tr>\n",
       "    <tr>\n",
       "      <th>496</th>\n",
       "      <td>0.28960</td>\n",
       "      <td>9.69</td>\n",
       "      <td>0.585</td>\n",
       "      <td>5.390</td>\n",
       "      <td>72.9</td>\n",
       "      <td>391.0</td>\n",
       "      <td>19.2</td>\n",
       "      <td>21.14</td>\n",
       "    </tr>\n",
       "    <tr>\n",
       "      <th>153</th>\n",
       "      <td>2.14918</td>\n",
       "      <td>19.58</td>\n",
       "      <td>0.871</td>\n",
       "      <td>5.709</td>\n",
       "      <td>98.5</td>\n",
       "      <td>403.0</td>\n",
       "      <td>14.7</td>\n",
       "      <td>15.79</td>\n",
       "    </tr>\n",
       "    <tr>\n",
       "      <th>33</th>\n",
       "      <td>1.15172</td>\n",
       "      <td>8.14</td>\n",
       "      <td>0.538</td>\n",
       "      <td>5.701</td>\n",
       "      <td>95.0</td>\n",
       "      <td>307.0</td>\n",
       "      <td>21.0</td>\n",
       "      <td>18.35</td>\n",
       "    </tr>\n",
       "  </tbody>\n",
       "</table>\n",
       "</div>"
      ],
      "text/plain": [
       "        CRIM  INDUS    NOX     RM   AGE    TAX  PTRATIO  LSTAT\n",
       "298  0.06466   2.24  0.400  6.345  20.1  358.0     14.8   4.97\n",
       "68   0.13554   6.07  0.409  5.594  36.8  345.0     18.9  13.09\n",
       "496  0.28960   9.69  0.585  5.390  72.9  391.0     19.2  21.14\n",
       "153  2.14918  19.58  0.871  5.709  98.5  403.0     14.7  15.79\n",
       "33   1.15172   8.14  0.538  5.701  95.0  307.0     21.0  18.35"
      ]
     },
     "execution_count": 41,
     "metadata": {},
     "output_type": "execute_result"
    }
   ],
   "source": [
    "## Question for Mock Up Test\n",
    "X_train.head()"
   ]
  },
  {
   "cell_type": "code",
   "execution_count": 42,
   "metadata": {},
   "outputs": [
    {
     "data": {
      "text/plain": [
       "27.885261913943026"
      ]
     },
     "execution_count": 42,
     "metadata": {},
     "output_type": "execute_result"
    }
   ],
   "source": [
    "## Predict Entirely New Data - Not in Dataset (Random)\n",
    "Model.predict([[0.02,21.56,0.75,7.56,21,250,18.2,11.75]])[0] # -> all random numbers"
   ]
  },
  {
   "cell_type": "code",
   "execution_count": 43,
   "metadata": {},
   "outputs": [
    {
     "data": {
      "text/plain": [
       "20.115832202121155"
      ]
     },
     "execution_count": 43,
     "metadata": {},
     "output_type": "execute_result"
    }
   ],
   "source": [
    "## Constanta\n",
    "Model.intercept_ \n",
    "## Default Price, when all features = 0"
   ]
  },
  {
   "cell_type": "code",
   "execution_count": 44,
   "metadata": {},
   "outputs": [
    {
     "data": {
      "text/plain": [
       "20.115832202121155"
      ]
     },
     "execution_count": 44,
     "metadata": {},
     "output_type": "execute_result"
    }
   ],
   "source": [
    "## Predict Entirely New Data (all Zero)\n",
    "Model.predict([[0,0,0,0,0,0,0,0]])[0]\n",
    "## All Features 0 = intercept"
   ]
  },
  {
   "cell_type": "markdown",
   "metadata": {},
   "source": [
    "<hr>\n",
    "\n",
    "## EVALUATION MATRIX\n",
    "- Comparing Answer Key (Actual Data) with Model Answer (Prediction)\n",
    "    - y_true => Actual Target Data (y_train or y_test) depends on which Evaluation Matrix being scored\n",
    "    - y_pred => Predicted Target Data (from Model answering x_train or x_test)"
   ]
  },
  {
   "cell_type": "code",
   "execution_count": 45,
   "metadata": {},
   "outputs": [],
   "source": [
    "## Assign predicted answer for Mock Up Test to variable\n",
    "pred_train=Model.predict(X_train)"
   ]
  },
  {
   "cell_type": "code",
   "execution_count": 46,
   "metadata": {},
   "outputs": [
    {
     "data": {
      "image/png": "[encoded data removed]",
      "text/plain": [
       "<Figure size 432x288 with 1 Axes>"
      ]
     },
     "metadata": {
      "needs_background": "light"
     },
     "output_type": "display_data"
    }
   ],
   "source": [
    "## Visualize relationship of Actual Data and Predicted Data in Training Set\n",
    "plt.scatter(y_train,pred_train,s=20)\n",
    "plt.xlabel('Actual Data')\n",
    "plt.ylabel('Predicted Data')\n",
    "plt.show()\n",
    "## Ideal scatterplot result should be a straight line from bottom left towards top right of the graph\n",
    "## Result: we see a few data that spread away from the middle of the line, those are most likely to be the error."
   ]
  },
  {
   "cell_type": "code",
   "execution_count": 47,
   "metadata": {},
   "outputs": [],
   "source": [
    "## Assign predicted answer for Real Test to variable\n",
    "pred_test=Model.predict(X_test)"
   ]
  },
  {
   "cell_type": "code",
   "execution_count": 48,
   "metadata": {},
   "outputs": [
    {
     "data": {
      "image/png": "[encoded data removed]",
      "text/plain": [
       "<Figure size 432x288 with 1 Axes>"
      ]
     },
     "metadata": {
      "needs_background": "light"
     },
     "output_type": "display_data"
    }
   ],
   "source": [
    "## Visualize relationship of Actual Data and Predicted Data in Testing Set\n",
    "plt.scatter(y_test,pred_test,s=20)\n",
    "plt.xlabel('Actual Data')\n",
    "plt.ylabel('Predicted Data')\n",
    "plt.show()\n",
    "## Ideal scatterplot result should be a straight line from bottom left towards top right of the graph\n",
    "## Result: Similar as testing set, we see a few data that spread away from the middle of the line, those are most likely to be the error."
   ]
  },
  {
   "cell_type": "code",
   "execution_count": 49,
   "metadata": {},
   "outputs": [],
   "source": [
    "## Combine question and answer key into one set\n",
    "training_set=pd.concat([X_train,y_train],axis=1)\n",
    "testing_set=pd.concat([X_test,y_test],axis=1)"
   ]
  },
  {
   "cell_type": "code",
   "execution_count": 50,
   "metadata": {},
   "outputs": [],
   "source": [
    "## Add error column (how far predicted data going away from actual data)\n",
    "training_set['price_pred']=pred_train\n",
    "training_set['error']=abs(training_set['Price']-training_set['price_pred'])"
   ]
  },
  {
   "cell_type": "code",
   "execution_count": 51,
   "metadata": {},
   "outputs": [
    {
     "data": {
      "image/png": "[encoded data removed]",
      "text/plain": [
       "<Figure size 432x288 with 1 Axes>"
      ]
     },
     "metadata": {
      "needs_background": "light"
     },
     "output_type": "display_data"
    }
   ],
   "source": [
    "## Visualize relationship of Actual Data and Predicted Data\n",
    "plt.scatter(training_set['Price'],training_set['error'],s=20)\n",
    "plt.xlabel('Actual Data')\n",
    "plt.ylabel('Error')\n",
    "plt.show()\n",
    "## Ideal scatterplot result for this analysis is the data caught in the bottom of the graph (y axis / error closer to 0)\n",
    "## Result: there are a lot of erros detected, highest one is error closer to 30"
   ]
  },
  {
   "cell_type": "markdown",
   "metadata": {},
   "source": [
    "<hr>\n",
    "\n",
    "## Error Distribution\n",
    "#### Good model have normally distributed error with mean value of 0"
   ]
  },
  {
   "cell_type": "code",
   "execution_count": 52,
   "metadata": {},
   "outputs": [
    {
     "data": {
      "image/png": "[encoded data removed]",
      "text/plain": [
       "<Figure size 432x288 with 1 Axes>"
      ]
     },
     "metadata": {
      "needs_background": "light"
     },
     "output_type": "display_data"
    }
   ],
   "source": [
    "## Visualize distribution of error in Histogram\n",
    "sns.distplot(training_set['error'])\n",
    "plt.show()\n",
    "## Result: Not Normally Distributed"
   ]
  },
  {
   "cell_type": "code",
   "execution_count": 53,
   "metadata": {},
   "outputs": [
    {
     "data": {
      "text/plain": [
       "3.5661069063499675"
      ]
     },
     "execution_count": 53,
     "metadata": {},
     "output_type": "execute_result"
    }
   ],
   "source": [
    "## Calculate mean of errors\n",
    "training_set['error'].mean()\n",
    "## Result: Not 0 or close to 0s"
   ]
  },
  {
   "cell_type": "markdown",
   "metadata": {},
   "source": [
    "<hr>\n",
    "\n",
    "## IMPROVEMENT MACHINE LEARNING (Project Limitation / Feature Engineering)"
   ]
  },
  {
   "cell_type": "code",
   "execution_count": 54,
   "metadata": {},
   "outputs": [
    {
     "data": {
      "text/html": [
       "<div>\n",
       "<style scoped>\n",
       "    .dataframe tbody tr th:only-of-type {\n",
       "        vertical-align: middle;\n",
       "    }\n",
       "\n",
       "    .dataframe tbody tr th {\n",
       "        vertical-align: top;\n",
       "    }\n",
       "\n",
       "    .dataframe thead th {\n",
       "        text-align: right;\n",
       "    }\n",
       "</style>\n",
       "<table border=\"1\" class=\"dataframe\">\n",
       "  <thead>\n",
       "    <tr style=\"text-align: right;\">\n",
       "      <th></th>\n",
       "      <th>CRIM</th>\n",
       "      <th>INDUS</th>\n",
       "      <th>NOX</th>\n",
       "      <th>RM</th>\n",
       "      <th>AGE</th>\n",
       "      <th>TAX</th>\n",
       "      <th>PTRATIO</th>\n",
       "      <th>LSTAT</th>\n",
       "      <th>Price</th>\n",
       "      <th>price_pred</th>\n",
       "      <th>error</th>\n",
       "    </tr>\n",
       "  </thead>\n",
       "  <tbody>\n",
       "    <tr>\n",
       "      <th>368</th>\n",
       "      <td>4.89822</td>\n",
       "      <td>18.10</td>\n",
       "      <td>0.631</td>\n",
       "      <td>4.970</td>\n",
       "      <td>100.0</td>\n",
       "      <td>666.0</td>\n",
       "      <td>20.2</td>\n",
       "      <td>3.26</td>\n",
       "      <td>50.0</td>\n",
       "      <td>21.040730</td>\n",
       "      <td>28.959270</td>\n",
       "    </tr>\n",
       "    <tr>\n",
       "      <th>372</th>\n",
       "      <td>8.26725</td>\n",
       "      <td>18.10</td>\n",
       "      <td>0.668</td>\n",
       "      <td>5.875</td>\n",
       "      <td>89.6</td>\n",
       "      <td>666.0</td>\n",
       "      <td>20.2</td>\n",
       "      <td>8.88</td>\n",
       "      <td>50.0</td>\n",
       "      <td>21.181212</td>\n",
       "      <td>28.818788</td>\n",
       "    </tr>\n",
       "    <tr>\n",
       "      <th>371</th>\n",
       "      <td>9.23230</td>\n",
       "      <td>18.10</td>\n",
       "      <td>0.631</td>\n",
       "      <td>6.216</td>\n",
       "      <td>100.0</td>\n",
       "      <td>666.0</td>\n",
       "      <td>20.2</td>\n",
       "      <td>9.53</td>\n",
       "      <td>50.0</td>\n",
       "      <td>22.658691</td>\n",
       "      <td>27.341309</td>\n",
       "    </tr>\n",
       "    <tr>\n",
       "      <th>369</th>\n",
       "      <td>5.66998</td>\n",
       "      <td>18.10</td>\n",
       "      <td>0.631</td>\n",
       "      <td>6.683</td>\n",
       "      <td>96.8</td>\n",
       "      <td>666.0</td>\n",
       "      <td>20.2</td>\n",
       "      <td>3.73</td>\n",
       "      <td>50.0</td>\n",
       "      <td>28.318355</td>\n",
       "      <td>21.681645</td>\n",
       "    </tr>\n",
       "    <tr>\n",
       "      <th>374</th>\n",
       "      <td>18.49820</td>\n",
       "      <td>18.10</td>\n",
       "      <td>0.668</td>\n",
       "      <td>4.138</td>\n",
       "      <td>100.0</td>\n",
       "      <td>666.0</td>\n",
       "      <td>20.2</td>\n",
       "      <td>37.97</td>\n",
       "      <td>13.8</td>\n",
       "      <td>-4.207088</td>\n",
       "      <td>18.007088</td>\n",
       "    </tr>\n",
       "    <tr>\n",
       "      <th>412</th>\n",
       "      <td>18.81100</td>\n",
       "      <td>18.10</td>\n",
       "      <td>0.597</td>\n",
       "      <td>4.628</td>\n",
       "      <td>100.0</td>\n",
       "      <td>666.0</td>\n",
       "      <td>20.2</td>\n",
       "      <td>34.37</td>\n",
       "      <td>17.9</td>\n",
       "      <td>0.398310</td>\n",
       "      <td>17.501690</td>\n",
       "    </tr>\n",
       "    <tr>\n",
       "      <th>214</th>\n",
       "      <td>0.28955</td>\n",
       "      <td>10.59</td>\n",
       "      <td>0.489</td>\n",
       "      <td>5.412</td>\n",
       "      <td>9.8</td>\n",
       "      <td>277.0</td>\n",
       "      <td>18.6</td>\n",
       "      <td>29.55</td>\n",
       "      <td>23.7</td>\n",
       "      <td>7.671422</td>\n",
       "      <td>16.028578</td>\n",
       "    </tr>\n",
       "    <tr>\n",
       "      <th>365</th>\n",
       "      <td>4.55587</td>\n",
       "      <td>18.10</td>\n",
       "      <td>0.718</td>\n",
       "      <td>3.561</td>\n",
       "      <td>87.9</td>\n",
       "      <td>666.0</td>\n",
       "      <td>20.2</td>\n",
       "      <td>7.12</td>\n",
       "      <td>27.5</td>\n",
       "      <td>11.823270</td>\n",
       "      <td>15.676730</td>\n",
       "    </tr>\n",
       "    <tr>\n",
       "      <th>367</th>\n",
       "      <td>13.52220</td>\n",
       "      <td>18.10</td>\n",
       "      <td>0.631</td>\n",
       "      <td>3.863</td>\n",
       "      <td>100.0</td>\n",
       "      <td>666.0</td>\n",
       "      <td>20.2</td>\n",
       "      <td>13.33</td>\n",
       "      <td>23.1</td>\n",
       "      <td>9.626989</td>\n",
       "      <td>13.473011</td>\n",
       "    </tr>\n",
       "    <tr>\n",
       "      <th>228</th>\n",
       "      <td>0.29819</td>\n",
       "      <td>6.20</td>\n",
       "      <td>0.504</td>\n",
       "      <td>7.686</td>\n",
       "      <td>17.0</td>\n",
       "      <td>307.0</td>\n",
       "      <td>17.4</td>\n",
       "      <td>3.92</td>\n",
       "      <td>46.7</td>\n",
       "      <td>34.140319</td>\n",
       "      <td>12.559681</td>\n",
       "    </tr>\n",
       "  </tbody>\n",
       "</table>\n",
       "</div>"
      ],
      "text/plain": [
       "         CRIM  INDUS    NOX     RM    AGE    TAX  PTRATIO  LSTAT  Price  \\\n",
       "368   4.89822  18.10  0.631  4.970  100.0  666.0     20.2   3.26   50.0   \n",
       "372   8.26725  18.10  0.668  5.875   89.6  666.0     20.2   8.88   50.0   \n",
       "371   9.23230  18.10  0.631  6.216  100.0  666.0     20.2   9.53   50.0   \n",
       "369   5.66998  18.10  0.631  6.683   96.8  666.0     20.2   3.73   50.0   \n",
       "374  18.49820  18.10  0.668  4.138  100.0  666.0     20.2  37.97   13.8   \n",
       "412  18.81100  18.10  0.597  4.628  100.0  666.0     20.2  34.37   17.9   \n",
       "214   0.28955  10.59  0.489  5.412    9.8  277.0     18.6  29.55   23.7   \n",
       "365   4.55587  18.10  0.718  3.561   87.9  666.0     20.2   7.12   27.5   \n",
       "367  13.52220  18.10  0.631  3.863  100.0  666.0     20.2  13.33   23.1   \n",
       "228   0.29819   6.20  0.504  7.686   17.0  307.0     17.4   3.92   46.7   \n",
       "\n",
       "     price_pred      error  \n",
       "368   21.040730  28.959270  \n",
       "372   21.181212  28.818788  \n",
       "371   22.658691  27.341309  \n",
       "369   28.318355  21.681645  \n",
       "374   -4.207088  18.007088  \n",
       "412    0.398310  17.501690  \n",
       "214    7.671422  16.028578  \n",
       "365   11.823270  15.676730  \n",
       "367    9.626989  13.473011  \n",
       "228   34.140319  12.559681  "
      ]
     },
     "execution_count": 54,
     "metadata": {},
     "output_type": "execute_result"
    }
   ],
   "source": [
    "# PROJECT LIMITATION\n",
    "training_set.sort_values('error',ascending=False).head(10)\n",
    "## Take out 10 data with highest Error, then analyze those errors\n",
    "### Insight: most of them have tax figures of 666, PTRATIO value of 20.2, with INDUS of 18.1"
   ]
  },
  {
   "cell_type": "markdown",
   "metadata": {},
   "source": [
    "There is alternative to drop rows with such features with:\n",
    "> df=df[df['TAX']!=666]"
   ]
  },
  {
   "cell_type": "code",
   "execution_count": 55,
   "metadata": {},
   "outputs": [],
   "source": [
    "## EVALUATION MATRIX FOR REGRESSION\n",
    "error_train=abs(y_train-pred_train)\n",
    "error_test=abs(y_test-pred_test)"
   ]
  },
  {
   "cell_type": "markdown",
   "metadata": {},
   "source": [
    "<hr>\n",
    "\n",
    "## EVALUATION MATRIX FOR REGRESSION\n",
    "1. R-Squared\n",
    "    - determinant coefficient, to measure how good our Model is\n",
    "    - to know % of Y (dependent var.) in X (independent var.)\n",
    "    ```ex: % of mango flesh```\n",
    "    - range: (minus)infinite - 1\n",
    "        - negative value means prediction made by Model is **worse** than using mean\n",
    "        - value closer to 1 means Model could make good prediction\n",
    "\n",
    "2. MAE (Mean Absolute Error)\n",
    "    - **absolute value** of mean of error\n",
    "    - range: 0 - infinite\n",
    "    - UoM is the same as the UoM of target data (currency, qty, or else)\n",
    "    - closer to 0 the better\n",
    "    - to know whether Error is acceptable or not -> compraed to **mean** of target data\n",
    "    \n",
    "3. MSE (Mean Squared Error)\n",
    "    - **squared** of mean of error\n",
    "    - range: 0 - infinite ```same as MAE```\n",
    "    - give score to Error -> the higher the error, the higher/bigger the score\n",
    "    - give penalty to high error\n",
    "    - closer to 0 the better  ```same as MAE```\n",
    "\n",
    "4. RMSE (Root Mean Squared Error)\n",
    "    - **squared root** of MSE\n",
    "    - standardized version of MSE\n",
    "    - range: 0 - infinite ```same as MAE and MSE```\n",
    "    - generally used Evauation Matrix for Regression, including for competition in Kaggle/Hackathon\n",
    "    - give score to Error -> the higher the error, the higher/bigger the score ```same as MSE```\n",
    "    - give penalty to high error ```same as MSE```\n",
    "    - closer to 0 the better ```same as MSE```\n",
    "\n",
    "> RMSE = MAE when all Errors are exactly the same\n",
    "\n",
    "5. Optional when many outliers appear"
   ]
  },
  {
   "cell_type": "markdown",
   "metadata": {},
   "source": [
    "### CASE EXAMPLE\n",
    "1. Example 1\n",
    "    - **Data = 100**, \n",
    "        - if MAE = 10 -> means prediction is ranged between 90 - 110\n",
    "\n",
    "2. Example 2\n",
    "    - Project A (Predict Total Bicycle Rent)\n",
    "        > Mean 75 ; MAE 50\n",
    "        - Prediction ranging 25 - 125, but by % (50/75) only 67%\n",
    "    - Project B (Predict Supercar Price)\n",
    "        > Mean 3,500,000,000 ; MAE 500,000,000\n",
    "        - by % (500,000,000 / 3,500,000,000) -> 14.29%\n",
    "    - Conclusion:\n",
    "        - MAE for Project A is better than Project B (closer to zero)\n",
    "        - However, Model for Project A might be not good enough because its only 67% (it all depends of the threshold set by management/client)"
   ]
  },
  {
   "cell_type": "code",
   "execution_count": 56,
   "metadata": {},
   "outputs": [],
   "source": [
    "## import package\n",
    "from sklearn.metrics import mean_absolute_error, r2_score, mean_squared_error"
   ]
  },
  {
   "cell_type": "code",
   "execution_count": 57,
   "metadata": {},
   "outputs": [
    {
     "data": {
      "text/plain": [
       "298    22.5\n",
       "68     17.4\n",
       "496    19.7\n",
       "153    19.4\n",
       "33     13.1\n",
       "       ... \n",
       "133    18.4\n",
       "361    19.9\n",
       "497    18.3\n",
       "340    18.7\n",
       "451    15.2\n",
       "Name: Price, Length: 430, dtype: float64"
      ]
     },
     "execution_count": 57,
     "metadata": {},
     "output_type": "execute_result"
    }
   ],
   "source": [
    "# ANSWER KEY FOR MOCK-UP TEST\n",
    "y_train"
   ]
  },
  {
   "cell_type": "code",
   "execution_count": 58,
   "metadata": {},
   "outputs": [],
   "source": [
    "## MODEL FOR MOCK-UP TEST\n",
    "pred_train=Model.predict(X_train)"
   ]
  },
  {
   "cell_type": "code",
   "execution_count": 59,
   "metadata": {},
   "outputs": [
    {
     "name": "stdout",
     "output_type": "stream",
     "text": [
      "Evaluation Matrix Result for Train Data:\n",
      "==================================================\n",
      "R-Squared = 0.69\n",
      "Mean Absolute Error = 3.57\n",
      "Mean Squared Error = 26.25\n",
      "Root Mean Squared Error = 5.12\n"
     ]
    }
   ],
   "source": [
    "# EVALUATION MATRIX TRAINING SET\n",
    "## BASE MODEL TRAINING SET\n",
    "## Calculate Evaluation Matrix with Every Alternatives\n",
    "r2_train=r2_score(y_train,pred_train)\n",
    "MAE_train=mean_absolute_error(y_train,pred_train)\n",
    "MSE_train=mean_squared_error(y_train,pred_train)\n",
    "RMSE_train=np.sqrt(MSE_train)\n",
    "\n",
    "## Present Result\n",
    "print('Evaluation Matrix Result for Train Data:')\n",
    "print('='*50)\n",
    "print(f'R-Squared = {r2_train.round(2)}')\n",
    "print(f'Mean Absolute Error = {MAE_train.round(2)}')\n",
    "print(f'Mean Squared Error = {MSE_train.round(2)}')\n",
    "print(f'Root Mean Squared Error = {RMSE_train.round(2)}')\n"
   ]
  },
  {
   "cell_type": "markdown",
   "metadata": {},
   "source": [
    "<hr>\n",
    "\n",
    "## EVALUATION FOR DATA TESTING (REAL-TEST)"
   ]
  },
  {
   "cell_type": "code",
   "execution_count": 60,
   "metadata": {},
   "outputs": [
    {
     "data": {
      "text/plain": [
       "337    18.5\n",
       "30     12.7\n",
       "364    21.9\n",
       "240    22.0\n",
       "162    50.0\n",
       "       ... \n",
       "302    26.4\n",
       "305    28.4\n",
       "194    29.1\n",
       "120    22.0\n",
       "272    24.4\n",
       "Name: Price, Length: 76, dtype: float64"
      ]
     },
     "execution_count": 60,
     "metadata": {},
     "output_type": "execute_result"
    }
   ],
   "source": [
    "## Answer Key for Real Test\n",
    "y_test"
   ]
  },
  {
   "cell_type": "code",
   "execution_count": 61,
   "metadata": {},
   "outputs": [],
   "source": [
    "## Model for Real Test\n",
    "pred_test=Model.predict(X_test)"
   ]
  },
  {
   "cell_type": "code",
   "execution_count": 61,
   "metadata": {},
   "outputs": [
    {
     "ename": "KeyboardInterrupt",
     "evalue": "",
     "output_type": "error",
     "traceback": [
      "\u001b[1;31m---------------------------------------------------------------------------\u001b[0m",
      "\u001b[1;31mKeyboardInterrupt\u001b[0m                         Traceback (most recent call last)",
      "File \u001b[1;32m~\\AppData\\Local\\Packages\\PythonSoftwareFoundation.Python.3.10_qbz5n2kfra8p0\\LocalCache\\local-packages\\Python310\\site-packages\\IPython\\core\\async_helpers.py:129\u001b[0m, in \u001b[0;36m_pseudo_sync_runner\u001b[1;34m(coro)\u001b[0m\n\u001b[0;32m    121\u001b[0m \u001b[39m\"\"\"\u001b[39;00m\n\u001b[0;32m    122\u001b[0m \u001b[39mA runner that does not really allow async execution, and just advance the coroutine.\u001b[39;00m\n\u001b[0;32m    123\u001b[0m \n\u001b[1;32m   (...)\u001b[0m\n\u001b[0;32m    126\u001b[0m \u001b[39mCredit to Nathaniel Smith\u001b[39;00m\n\u001b[0;32m    127\u001b[0m \u001b[39m\"\"\"\u001b[39;00m\n\u001b[0;32m    128\u001b[0m \u001b[39mtry\u001b[39;00m:\n\u001b[1;32m--> 129\u001b[0m     coro\u001b[39m.\u001b[39;49msend(\u001b[39mNone\u001b[39;49;00m)\n\u001b[0;32m    130\u001b[0m \u001b[39mexcept\u001b[39;00m \u001b[39mStopIteration\u001b[39;00m \u001b[39mas\u001b[39;00m exc:\n\u001b[0;32m    131\u001b[0m     \u001b[39mreturn\u001b[39;00m exc\u001b[39m.\u001b[39mvalue\n",
      "File \u001b[1;32m~\\AppData\\Local\\Packages\\PythonSoftwareFoundation.Python.3.10_qbz5n2kfra8p0\\LocalCache\\local-packages\\Python310\\site-packages\\IPython\\core\\interactiveshell.py:3103\u001b[0m, in \u001b[0;36mInteractiveShell.run_cell_async\u001b[1;34m(self, raw_cell, store_history, silent, shell_futures, transformed_cell, preprocessing_exc_tuple, cell_id)\u001b[0m\n\u001b[0;32m   3100\u001b[0m _run_async \u001b[39m=\u001b[39m \u001b[39mFalse\u001b[39;00m\n\u001b[0;32m   3102\u001b[0m \u001b[39mwith\u001b[39;00m \u001b[39mself\u001b[39m\u001b[39m.\u001b[39mbuiltin_trap:\n\u001b[1;32m-> 3103\u001b[0m     cell_name \u001b[39m=\u001b[39m compiler\u001b[39m.\u001b[39;49mcache(cell, \u001b[39mself\u001b[39;49m\u001b[39m.\u001b[39;49mexecution_count, raw_code\u001b[39m=\u001b[39;49mraw_cell)\n\u001b[0;32m   3105\u001b[0m     \u001b[39mwith\u001b[39;00m \u001b[39mself\u001b[39m\u001b[39m.\u001b[39mdisplay_trap:\n\u001b[0;32m   3106\u001b[0m         \u001b[39m# Compile to bytecode\u001b[39;00m\n\u001b[0;32m   3107\u001b[0m         \u001b[39mtry\u001b[39;00m:\n",
      "File \u001b[1;32m~\\AppData\\Local\\Packages\\PythonSoftwareFoundation.Python.3.10_qbz5n2kfra8p0\\LocalCache\\local-packages\\Python310\\site-packages\\IPython\\core\\compilerop.py:159\u001b[0m, in \u001b[0;36mCachingCompiler.cache\u001b[1;34m(self, transformed_code, number, raw_code)\u001b[0m\n\u001b[0;32m    156\u001b[0m \u001b[39mif\u001b[39;00m raw_code \u001b[39mis\u001b[39;00m \u001b[39mNone\u001b[39;00m:\n\u001b[0;32m    157\u001b[0m     raw_code \u001b[39m=\u001b[39m transformed_code\n\u001b[1;32m--> 159\u001b[0m name \u001b[39m=\u001b[39m \u001b[39mself\u001b[39;49m\u001b[39m.\u001b[39;49mget_code_name(raw_code, transformed_code, number)\n\u001b[0;32m    161\u001b[0m \u001b[39m# Save the execution count\u001b[39;00m\n\u001b[0;32m    162\u001b[0m \u001b[39mself\u001b[39m\u001b[39m.\u001b[39m_filename_map[name] \u001b[39m=\u001b[39m number\n",
      "File \u001b[1;32m~\\AppData\\Local\\Packages\\PythonSoftwareFoundation.Python.3.10_qbz5n2kfra8p0\\LocalCache\\local-packages\\Python310\\site-packages\\ipykernel\\compiler.py:97\u001b[0m, in \u001b[0;36mXCachingCompiler.get_code_name\u001b[1;34m(self, raw_code, code, number)\u001b[0m\n\u001b[0;32m     96\u001b[0m \u001b[39mdef\u001b[39;00m \u001b[39mget_code_name\u001b[39m(\u001b[39mself\u001b[39m, raw_code, code, number):\n\u001b[1;32m---> 97\u001b[0m     \u001b[39mreturn\u001b[39;00m get_file_name(raw_code)\n",
      "File \u001b[1;32m~\\AppData\\Local\\Packages\\PythonSoftwareFoundation.Python.3.10_qbz5n2kfra8p0\\LocalCache\\local-packages\\Python310\\site-packages\\ipykernel\\compiler.py:87\u001b[0m, in \u001b[0;36mget_file_name\u001b[1;34m(code)\u001b[0m\n\u001b[0;32m     85\u001b[0m \u001b[39mif\u001b[39;00m cell_name \u001b[39mis\u001b[39;00m \u001b[39mNone\u001b[39;00m:\n\u001b[0;32m     86\u001b[0m     name \u001b[39m=\u001b[39m murmur2_x86(code, get_tmp_hash_seed())\n\u001b[1;32m---> 87\u001b[0m     cell_name \u001b[39m=\u001b[39m get_tmp_directory() \u001b[39m+\u001b[39m os\u001b[39m.\u001b[39msep \u001b[39m+\u001b[39m \u001b[39mstr\u001b[39m(name) \u001b[39m+\u001b[39m \u001b[39m\"\u001b[39m\u001b[39m.py\u001b[39m\u001b[39m\"\u001b[39m\n\u001b[0;32m     88\u001b[0m \u001b[39mreturn\u001b[39;00m cell_name\n",
      "File \u001b[1;32m~\\AppData\\Local\\Packages\\PythonSoftwareFoundation.Python.3.10_qbz5n2kfra8p0\\LocalCache\\local-packages\\Python310\\site-packages\\ipykernel\\compiler.py:73\u001b[0m, in \u001b[0;36mget_tmp_directory\u001b[1;34m()\u001b[0m\n\u001b[0;32m     72\u001b[0m \u001b[39mdef\u001b[39;00m \u001b[39mget_tmp_directory\u001b[39m():\n\u001b[1;32m---> 73\u001b[0m     tmp_dir \u001b[39m=\u001b[39m convert_to_long_pathname(tempfile\u001b[39m.\u001b[39;49mgettempdir())\n\u001b[0;32m     74\u001b[0m     pid \u001b[39m=\u001b[39m os\u001b[39m.\u001b[39mgetpid()\n\u001b[0;32m     75\u001b[0m     \u001b[39mreturn\u001b[39;00m tmp_dir \u001b[39m+\u001b[39m os\u001b[39m.\u001b[39msep \u001b[39m+\u001b[39m \u001b[39m\"\u001b[39m\u001b[39mipykernel_\u001b[39m\u001b[39m\"\u001b[39m \u001b[39m+\u001b[39m \u001b[39mstr\u001b[39m(pid)\n",
      "File \u001b[1;32m~\\AppData\\Local\\Packages\\PythonSoftwareFoundation.Python.3.10_qbz5n2kfra8p0\\LocalCache\\local-packages\\Python310\\site-packages\\ipykernel\\compiler.py:59\u001b[0m, in \u001b[0;36m_convert_to_long_pathname\u001b[1;34m(filename)\u001b[0m\n\u001b[0;32m     57\u001b[0m \u001b[39mdef\u001b[39;00m \u001b[39m_convert_to_long_pathname\u001b[39m(filename):\n\u001b[0;32m     58\u001b[0m     buf \u001b[39m=\u001b[39m ctypes\u001b[39m.\u001b[39mcreate_unicode_buffer(MAX_PATH)\n\u001b[1;32m---> 59\u001b[0m     rv \u001b[39m=\u001b[39m _GetLongPathName(filename, buf, MAX_PATH)\n\u001b[0;32m     60\u001b[0m     \u001b[39mif\u001b[39;00m rv \u001b[39m!=\u001b[39m \u001b[39m0\u001b[39m \u001b[39mand\u001b[39;00m rv \u001b[39m<\u001b[39m\u001b[39m=\u001b[39m MAX_PATH:\n\u001b[0;32m     61\u001b[0m         filename \u001b[39m=\u001b[39m buf\u001b[39m.\u001b[39mvalue\n",
      "\u001b[1;31mKeyboardInterrupt\u001b[0m: "
     ]
    }
   ],
   "source": [
    "# EVALUATION MATRIX TESTING SET\n",
    "## BASE MODEL TESTING SET\n",
    "## Calculate Evaluation Matrix with Every Alternatives\n",
    "r2_test=r2_score(y_test,pred_test)\n",
    "MAE_test=mean_absolute_error(y_test,pred_test)\n",
    "MSE_test=mean_squared_error(y_test,pred_test)\n",
    "RMSE_test=np.sqrt(MSE_test)\n",
    "\n",
    "## Present Result\n",
    "print('Evaluation Matrix Result for Test Data:')\n",
    "print('='*50)\n",
    "print(f'R-Squared = {r2_test.round(2)}')\n",
    "print(f'Mean Absolute Error = {MAE_test.round(2)}')\n",
    "print(f'Mean Squared Error = {MSE_test.round(2)}')\n",
    "print(f'Root Mean Squared Error = {RMSE_test.round(2)}')"
   ]
  },
  {
   "cell_type": "code",
   "execution_count": null,
   "metadata": {},
   "outputs": [
    {
     "name": "stdout",
     "output_type": "stream",
     "text": [
      "Evaluation Matrix Result for Test Data:\n",
      "==================================================\n",
      "R-Squared = 0.64\n",
      "Mean Absolute Error = 3.85\n",
      "Mean Squared Error = 28.37\n",
      "Root Mean Squared Error = 5.33\n"
     ]
    }
   ],
   "source": [
    "# EVALUATION MATRIX TESTING SET\n",
    "## BASE MODEL TESTING SET\n",
    "## Calculate Evaluation Matrix with Every Alternatives\n",
    "r2_test=r2_score(y_test,pred_test)\n",
    "MAE_test=mean_absolute_error(y_test,pred_test)\n",
    "MSE_test=mean_squared_error(y_test,pred_test)\n",
    "RMSE_test=np.sqrt(MSE_test)\n",
    "\n",
    "## Present Result\n",
    "print('Evaluation Matrix Result for Test Data:')\n",
    "print('='*50)\n",
    "print(f'R-Squared = {r2_test.round(2)}')\n",
    "print(f'Mean Absolute Error = {MAE_test.round(2)}')\n",
    "print(f'Mean Squared Error = {MSE_test.round(2)}')\n",
    "print(f'Root Mean Squared Error = {RMSE_test.round(2)}')"
   ]
  },
  {
   "cell_type": "markdown",
   "metadata": {},
   "source": [
    "<hr>\n",
    "\n",
    "## Training vs Testing"
   ]
  },
  {
   "cell_type": "code",
   "execution_count": null,
   "metadata": {},
   "outputs": [
    {
     "data": {
      "text/html": [
       "<div>\n",
       "<style scoped>\n",
       "    .dataframe tbody tr th:only-of-type {\n",
       "        vertical-align: middle;\n",
       "    }\n",
       "\n",
       "    .dataframe tbody tr th {\n",
       "        vertical-align: top;\n",
       "    }\n",
       "\n",
       "    .dataframe thead th {\n",
       "        text-align: right;\n",
       "    }\n",
       "</style>\n",
       "<table border=\"1\" class=\"dataframe\">\n",
       "  <thead>\n",
       "    <tr style=\"text-align: right;\">\n",
       "      <th></th>\n",
       "      <th>Training</th>\n",
       "      <th>Testing</th>\n",
       "      <th>Range</th>\n",
       "      <th>Indicator</th>\n",
       "    </tr>\n",
       "  </thead>\n",
       "  <tbody>\n",
       "    <tr>\n",
       "      <th>R-Squared</th>\n",
       "      <td>0.69</td>\n",
       "      <td>0.64</td>\n",
       "      <td>-~ to 1</td>\n",
       "      <td>Closer to 1 the better</td>\n",
       "    </tr>\n",
       "    <tr>\n",
       "      <th>MAE</th>\n",
       "      <td>3.57</td>\n",
       "      <td>3.85</td>\n",
       "      <td>0 to ~</td>\n",
       "      <td>Closer to 0 the better</td>\n",
       "    </tr>\n",
       "    <tr>\n",
       "      <th>MSE</th>\n",
       "      <td>26.25</td>\n",
       "      <td>28.37</td>\n",
       "      <td>0 to ~</td>\n",
       "      <td>Closer to 0 the better</td>\n",
       "    </tr>\n",
       "    <tr>\n",
       "      <th>RMSE</th>\n",
       "      <td>5.12</td>\n",
       "      <td>5.33</td>\n",
       "      <td>0 to ~</td>\n",
       "      <td>Closer to 0 the better</td>\n",
       "    </tr>\n",
       "  </tbody>\n",
       "</table>\n",
       "</div>"
      ],
      "text/plain": [
       "           Training  Testing    Range               Indicator\n",
       "R-Squared      0.69     0.64  -~ to 1  Closer to 1 the better\n",
       "MAE            3.57     3.85   0 to ~  Closer to 0 the better\n",
       "MSE           26.25    28.37   0 to ~  Closer to 0 the better\n",
       "RMSE           5.12     5.33   0 to ~  Closer to 0 the better"
      ]
     },
     "execution_count": 166,
     "metadata": {},
     "output_type": "execute_result"
    }
   ],
   "source": [
    "data={\n",
    "    'Training':[r2_train,MAE_train,MSE_train,RMSE_train],\n",
    "    'Testing':[r2_test,MAE_test,MSE_test,RMSE_test],\n",
    "    'Range':['-~ to 1','0 to ~','0 to ~','0 to ~'],\n",
    "    'Indicator':['Closer to 1 the better','Closer to 0 the better','Closer to 0 the better','Closer to 0 the better']\n",
    "}\n",
    "pd.DataFrame(data,index=['R-Squared','MAE','MSE','RMSE']).round(2)"
   ]
  },
  {
   "cell_type": "markdown",
   "metadata": {},
   "source": [
    "## Key Takeaways\n",
    "This Model is *underfitting*, means that both of training and testing score of R-Squared falls below 70, good Model expected to score above 80 for both training and testing, while good training score but bad testing score indicates an overfitting Model."
   ]
  },
  {
   "cell_type": "markdown",
   "metadata": {},
   "source": [
    "<hr>\n",
    "\n",
    "# POLYNOMIAL FEATURES"
   ]
  },
  {
   "cell_type": "code",
   "execution_count": null,
   "metadata": {},
   "outputs": [],
   "source": [
    "## Import Package\n",
    "from sklearn.preprocessing import PolynomialFeatures"
   ]
  },
  {
   "cell_type": "code",
   "execution_count": null,
   "metadata": {},
   "outputs": [
    {
     "data": {
      "text/html": [
       "<div>\n",
       "<style scoped>\n",
       "    .dataframe tbody tr th:only-of-type {\n",
       "        vertical-align: middle;\n",
       "    }\n",
       "\n",
       "    .dataframe tbody tr th {\n",
       "        vertical-align: top;\n",
       "    }\n",
       "\n",
       "    .dataframe thead th {\n",
       "        text-align: right;\n",
       "    }\n",
       "</style>\n",
       "<table border=\"1\" class=\"dataframe\">\n",
       "  <thead>\n",
       "    <tr style=\"text-align: right;\">\n",
       "      <th></th>\n",
       "      <th>CRIM</th>\n",
       "      <th>INDUS</th>\n",
       "      <th>NOX</th>\n",
       "      <th>RM</th>\n",
       "      <th>AGE</th>\n",
       "      <th>TAX</th>\n",
       "      <th>PTRATIO</th>\n",
       "      <th>LSTAT</th>\n",
       "    </tr>\n",
       "  </thead>\n",
       "  <tbody>\n",
       "    <tr>\n",
       "      <th>298</th>\n",
       "      <td>0.06466</td>\n",
       "      <td>2.24</td>\n",
       "      <td>0.400</td>\n",
       "      <td>6.345</td>\n",
       "      <td>20.1</td>\n",
       "      <td>358.0</td>\n",
       "      <td>14.8</td>\n",
       "      <td>4.97</td>\n",
       "    </tr>\n",
       "    <tr>\n",
       "      <th>68</th>\n",
       "      <td>0.13554</td>\n",
       "      <td>6.07</td>\n",
       "      <td>0.409</td>\n",
       "      <td>5.594</td>\n",
       "      <td>36.8</td>\n",
       "      <td>345.0</td>\n",
       "      <td>18.9</td>\n",
       "      <td>13.09</td>\n",
       "    </tr>\n",
       "    <tr>\n",
       "      <th>496</th>\n",
       "      <td>0.28960</td>\n",
       "      <td>9.69</td>\n",
       "      <td>0.585</td>\n",
       "      <td>5.390</td>\n",
       "      <td>72.9</td>\n",
       "      <td>391.0</td>\n",
       "      <td>19.2</td>\n",
       "      <td>21.14</td>\n",
       "    </tr>\n",
       "    <tr>\n",
       "      <th>153</th>\n",
       "      <td>2.14918</td>\n",
       "      <td>19.58</td>\n",
       "      <td>0.871</td>\n",
       "      <td>5.709</td>\n",
       "      <td>98.5</td>\n",
       "      <td>403.0</td>\n",
       "      <td>14.7</td>\n",
       "      <td>15.79</td>\n",
       "    </tr>\n",
       "    <tr>\n",
       "      <th>33</th>\n",
       "      <td>1.15172</td>\n",
       "      <td>8.14</td>\n",
       "      <td>0.538</td>\n",
       "      <td>5.701</td>\n",
       "      <td>95.0</td>\n",
       "      <td>307.0</td>\n",
       "      <td>21.0</td>\n",
       "      <td>18.35</td>\n",
       "    </tr>\n",
       "  </tbody>\n",
       "</table>\n",
       "</div>"
      ],
      "text/plain": [
       "        CRIM  INDUS    NOX     RM   AGE    TAX  PTRATIO  LSTAT\n",
       "298  0.06466   2.24  0.400  6.345  20.1  358.0     14.8   4.97\n",
       "68   0.13554   6.07  0.409  5.594  36.8  345.0     18.9  13.09\n",
       "496  0.28960   9.69  0.585  5.390  72.9  391.0     19.2  21.14\n",
       "153  2.14918  19.58  0.871  5.709  98.5  403.0     14.7  15.79\n",
       "33   1.15172   8.14  0.538  5.701  95.0  307.0     21.0  18.35"
      ]
     },
     "execution_count": 168,
     "metadata": {},
     "output_type": "execute_result"
    }
   ],
   "source": [
    "X_train.head()"
   ]
  },
  {
   "cell_type": "code",
   "execution_count": null,
   "metadata": {},
   "outputs": [],
   "source": [
    "## Let Model learn/see question for Mock Up Test to learn the pattern\n",
    "Poli=PolynomialFeatures(degree=2,include_bias=False)\n",
    "Poli=Poli.fit(X_train) \n",
    "# fit training data only, because Model may not see testing data\n",
    "## data leakage = when Model accidentally see/learn/know condition of testing data\n",
    "\n",
    "## Assign transformed training set into variables\n",
    "x_train_poli=Poli.transform(X_train)\n",
    "x_test_poli=Poli.transform(X_test)"
   ]
  },
  {
   "cell_type": "code",
   "execution_count": null,
   "metadata": {},
   "outputs": [
    {
     "data": {
      "text/html": [
       "<div>\n",
       "<style scoped>\n",
       "    .dataframe tbody tr th:only-of-type {\n",
       "        vertical-align: middle;\n",
       "    }\n",
       "\n",
       "    .dataframe tbody tr th {\n",
       "        vertical-align: top;\n",
       "    }\n",
       "\n",
       "    .dataframe thead th {\n",
       "        text-align: right;\n",
       "    }\n",
       "</style>\n",
       "<table border=\"1\" class=\"dataframe\">\n",
       "  <thead>\n",
       "    <tr style=\"text-align: right;\">\n",
       "      <th></th>\n",
       "      <th>0</th>\n",
       "      <th>1</th>\n",
       "      <th>2</th>\n",
       "      <th>3</th>\n",
       "      <th>4</th>\n",
       "      <th>5</th>\n",
       "      <th>6</th>\n",
       "      <th>7</th>\n",
       "      <th>8</th>\n",
       "      <th>9</th>\n",
       "      <th>...</th>\n",
       "      <th>34</th>\n",
       "      <th>35</th>\n",
       "      <th>36</th>\n",
       "      <th>37</th>\n",
       "      <th>38</th>\n",
       "      <th>39</th>\n",
       "      <th>40</th>\n",
       "      <th>41</th>\n",
       "      <th>42</th>\n",
       "      <th>43</th>\n",
       "    </tr>\n",
       "  </thead>\n",
       "  <tbody>\n",
       "    <tr>\n",
       "      <th>0</th>\n",
       "      <td>0.06466</td>\n",
       "      <td>2.24</td>\n",
       "      <td>0.400</td>\n",
       "      <td>6.345</td>\n",
       "      <td>20.1</td>\n",
       "      <td>358.0</td>\n",
       "      <td>14.8</td>\n",
       "      <td>4.97</td>\n",
       "      <td>0.004181</td>\n",
       "      <td>0.144838</td>\n",
       "      <td>...</td>\n",
       "      <td>404.01</td>\n",
       "      <td>7195.8</td>\n",
       "      <td>297.48</td>\n",
       "      <td>99.897</td>\n",
       "      <td>128164.0</td>\n",
       "      <td>5298.4</td>\n",
       "      <td>1779.26</td>\n",
       "      <td>219.04</td>\n",
       "      <td>73.556</td>\n",
       "      <td>24.7009</td>\n",
       "    </tr>\n",
       "    <tr>\n",
       "      <th>1</th>\n",
       "      <td>0.13554</td>\n",
       "      <td>6.07</td>\n",
       "      <td>0.409</td>\n",
       "      <td>5.594</td>\n",
       "      <td>36.8</td>\n",
       "      <td>345.0</td>\n",
       "      <td>18.9</td>\n",
       "      <td>13.09</td>\n",
       "      <td>0.018371</td>\n",
       "      <td>0.822728</td>\n",
       "      <td>...</td>\n",
       "      <td>1354.24</td>\n",
       "      <td>12696.0</td>\n",
       "      <td>695.52</td>\n",
       "      <td>481.712</td>\n",
       "      <td>119025.0</td>\n",
       "      <td>6520.5</td>\n",
       "      <td>4516.05</td>\n",
       "      <td>357.21</td>\n",
       "      <td>247.401</td>\n",
       "      <td>171.3481</td>\n",
       "    </tr>\n",
       "    <tr>\n",
       "      <th>2</th>\n",
       "      <td>0.28960</td>\n",
       "      <td>9.69</td>\n",
       "      <td>0.585</td>\n",
       "      <td>5.390</td>\n",
       "      <td>72.9</td>\n",
       "      <td>391.0</td>\n",
       "      <td>19.2</td>\n",
       "      <td>21.14</td>\n",
       "      <td>0.083868</td>\n",
       "      <td>2.806224</td>\n",
       "      <td>...</td>\n",
       "      <td>5314.41</td>\n",
       "      <td>28503.9</td>\n",
       "      <td>1399.68</td>\n",
       "      <td>1541.106</td>\n",
       "      <td>152881.0</td>\n",
       "      <td>7507.2</td>\n",
       "      <td>8265.74</td>\n",
       "      <td>368.64</td>\n",
       "      <td>405.888</td>\n",
       "      <td>446.8996</td>\n",
       "    </tr>\n",
       "    <tr>\n",
       "      <th>3</th>\n",
       "      <td>2.14918</td>\n",
       "      <td>19.58</td>\n",
       "      <td>0.871</td>\n",
       "      <td>5.709</td>\n",
       "      <td>98.5</td>\n",
       "      <td>403.0</td>\n",
       "      <td>14.7</td>\n",
       "      <td>15.79</td>\n",
       "      <td>4.618975</td>\n",
       "      <td>42.080944</td>\n",
       "      <td>...</td>\n",
       "      <td>9702.25</td>\n",
       "      <td>39695.5</td>\n",
       "      <td>1447.95</td>\n",
       "      <td>1555.315</td>\n",
       "      <td>162409.0</td>\n",
       "      <td>5924.1</td>\n",
       "      <td>6363.37</td>\n",
       "      <td>216.09</td>\n",
       "      <td>232.113</td>\n",
       "      <td>249.3241</td>\n",
       "    </tr>\n",
       "    <tr>\n",
       "      <th>4</th>\n",
       "      <td>1.15172</td>\n",
       "      <td>8.14</td>\n",
       "      <td>0.538</td>\n",
       "      <td>5.701</td>\n",
       "      <td>95.0</td>\n",
       "      <td>307.0</td>\n",
       "      <td>21.0</td>\n",
       "      <td>18.35</td>\n",
       "      <td>1.326459</td>\n",
       "      <td>9.375001</td>\n",
       "      <td>...</td>\n",
       "      <td>9025.00</td>\n",
       "      <td>29165.0</td>\n",
       "      <td>1995.00</td>\n",
       "      <td>1743.250</td>\n",
       "      <td>94249.0</td>\n",
       "      <td>6447.0</td>\n",
       "      <td>5633.45</td>\n",
       "      <td>441.00</td>\n",
       "      <td>385.350</td>\n",
       "      <td>336.7225</td>\n",
       "    </tr>\n",
       "  </tbody>\n",
       "</table>\n",
       "<p>5 rows × 44 columns</p>\n",
       "</div>"
      ],
      "text/plain": [
       "        0      1      2      3     4      5     6      7         8   \\\n",
       "0  0.06466   2.24  0.400  6.345  20.1  358.0  14.8   4.97  0.004181   \n",
       "1  0.13554   6.07  0.409  5.594  36.8  345.0  18.9  13.09  0.018371   \n",
       "2  0.28960   9.69  0.585  5.390  72.9  391.0  19.2  21.14  0.083868   \n",
       "3  2.14918  19.58  0.871  5.709  98.5  403.0  14.7  15.79  4.618975   \n",
       "4  1.15172   8.14  0.538  5.701  95.0  307.0  21.0  18.35  1.326459   \n",
       "\n",
       "          9   ...       34       35       36        37        38      39  \\\n",
       "0   0.144838  ...   404.01   7195.8   297.48    99.897  128164.0  5298.4   \n",
       "1   0.822728  ...  1354.24  12696.0   695.52   481.712  119025.0  6520.5   \n",
       "2   2.806224  ...  5314.41  28503.9  1399.68  1541.106  152881.0  7507.2   \n",
       "3  42.080944  ...  9702.25  39695.5  1447.95  1555.315  162409.0  5924.1   \n",
       "4   9.375001  ...  9025.00  29165.0  1995.00  1743.250   94249.0  6447.0   \n",
       "\n",
       "        40      41       42        43  \n",
       "0  1779.26  219.04   73.556   24.7009  \n",
       "1  4516.05  357.21  247.401  171.3481  \n",
       "2  8265.74  368.64  405.888  446.8996  \n",
       "3  6363.37  216.09  232.113  249.3241  \n",
       "4  5633.45  441.00  385.350  336.7225  \n",
       "\n",
       "[5 rows x 44 columns]"
      ]
     },
     "execution_count": 170,
     "metadata": {},
     "output_type": "execute_result"
    }
   ],
   "source": [
    "## Assign Question for Mock Up Test with Poly Model into Variable\n",
    "df_x_train_poli=pd.DataFrame(x_train_poli)\n",
    "df_x_train_poli.head()"
   ]
  },
  {
   "cell_type": "code",
   "execution_count": null,
   "metadata": {},
   "outputs": [
    {
     "data": {
      "text/html": [
       "<div>\n",
       "<style scoped>\n",
       "    .dataframe tbody tr th:only-of-type {\n",
       "        vertical-align: middle;\n",
       "    }\n",
       "\n",
       "    .dataframe tbody tr th {\n",
       "        vertical-align: top;\n",
       "    }\n",
       "\n",
       "    .dataframe thead th {\n",
       "        text-align: right;\n",
       "    }\n",
       "</style>\n",
       "<table border=\"1\" class=\"dataframe\">\n",
       "  <thead>\n",
       "    <tr style=\"text-align: right;\">\n",
       "      <th></th>\n",
       "      <th>0</th>\n",
       "      <th>1</th>\n",
       "      <th>2</th>\n",
       "      <th>3</th>\n",
       "      <th>4</th>\n",
       "      <th>5</th>\n",
       "      <th>6</th>\n",
       "      <th>7</th>\n",
       "      <th>8</th>\n",
       "      <th>9</th>\n",
       "      <th>...</th>\n",
       "      <th>34</th>\n",
       "      <th>35</th>\n",
       "      <th>36</th>\n",
       "      <th>37</th>\n",
       "      <th>38</th>\n",
       "      <th>39</th>\n",
       "      <th>40</th>\n",
       "      <th>41</th>\n",
       "      <th>42</th>\n",
       "      <th>43</th>\n",
       "    </tr>\n",
       "  </thead>\n",
       "  <tbody>\n",
       "    <tr>\n",
       "      <th>0</th>\n",
       "      <td>0.03041</td>\n",
       "      <td>5.19</td>\n",
       "      <td>0.515</td>\n",
       "      <td>5.895</td>\n",
       "      <td>59.6</td>\n",
       "      <td>224.0</td>\n",
       "      <td>20.2</td>\n",
       "      <td>10.56</td>\n",
       "      <td>0.000925</td>\n",
       "      <td>0.157828</td>\n",
       "      <td>...</td>\n",
       "      <td>3552.16</td>\n",
       "      <td>13350.4</td>\n",
       "      <td>1203.92</td>\n",
       "      <td>629.376</td>\n",
       "      <td>50176.0</td>\n",
       "      <td>4524.8</td>\n",
       "      <td>2365.44</td>\n",
       "      <td>408.04</td>\n",
       "      <td>213.312</td>\n",
       "      <td>111.5136</td>\n",
       "    </tr>\n",
       "    <tr>\n",
       "      <th>1</th>\n",
       "      <td>1.13081</td>\n",
       "      <td>8.14</td>\n",
       "      <td>0.538</td>\n",
       "      <td>5.713</td>\n",
       "      <td>94.1</td>\n",
       "      <td>307.0</td>\n",
       "      <td>21.0</td>\n",
       "      <td>22.60</td>\n",
       "      <td>1.278731</td>\n",
       "      <td>9.204793</td>\n",
       "      <td>...</td>\n",
       "      <td>8854.81</td>\n",
       "      <td>28888.7</td>\n",
       "      <td>1976.10</td>\n",
       "      <td>2126.660</td>\n",
       "      <td>94249.0</td>\n",
       "      <td>6447.0</td>\n",
       "      <td>6938.20</td>\n",
       "      <td>441.00</td>\n",
       "      <td>474.600</td>\n",
       "      <td>510.7600</td>\n",
       "    </tr>\n",
       "    <tr>\n",
       "      <th>2</th>\n",
       "      <td>3.47428</td>\n",
       "      <td>18.10</td>\n",
       "      <td>0.718</td>\n",
       "      <td>8.780</td>\n",
       "      <td>82.9</td>\n",
       "      <td>666.0</td>\n",
       "      <td>20.2</td>\n",
       "      <td>5.29</td>\n",
       "      <td>12.070622</td>\n",
       "      <td>62.884468</td>\n",
       "      <td>...</td>\n",
       "      <td>6872.41</td>\n",
       "      <td>55211.4</td>\n",
       "      <td>1674.58</td>\n",
       "      <td>438.541</td>\n",
       "      <td>443556.0</td>\n",
       "      <td>13453.2</td>\n",
       "      <td>3523.14</td>\n",
       "      <td>408.04</td>\n",
       "      <td>106.858</td>\n",
       "      <td>27.9841</td>\n",
       "    </tr>\n",
       "    <tr>\n",
       "      <th>3</th>\n",
       "      <td>0.11329</td>\n",
       "      <td>4.93</td>\n",
       "      <td>0.428</td>\n",
       "      <td>6.897</td>\n",
       "      <td>54.3</td>\n",
       "      <td>300.0</td>\n",
       "      <td>16.6</td>\n",
       "      <td>11.38</td>\n",
       "      <td>0.012835</td>\n",
       "      <td>0.558520</td>\n",
       "      <td>...</td>\n",
       "      <td>2948.49</td>\n",
       "      <td>16290.0</td>\n",
       "      <td>901.38</td>\n",
       "      <td>617.934</td>\n",
       "      <td>90000.0</td>\n",
       "      <td>4980.0</td>\n",
       "      <td>3414.00</td>\n",
       "      <td>275.56</td>\n",
       "      <td>188.908</td>\n",
       "      <td>129.5044</td>\n",
       "    </tr>\n",
       "    <tr>\n",
       "      <th>4</th>\n",
       "      <td>1.83377</td>\n",
       "      <td>19.58</td>\n",
       "      <td>0.605</td>\n",
       "      <td>7.802</td>\n",
       "      <td>98.2</td>\n",
       "      <td>403.0</td>\n",
       "      <td>14.7</td>\n",
       "      <td>1.92</td>\n",
       "      <td>3.362712</td>\n",
       "      <td>35.905217</td>\n",
       "      <td>...</td>\n",
       "      <td>9643.24</td>\n",
       "      <td>39574.6</td>\n",
       "      <td>1443.54</td>\n",
       "      <td>188.544</td>\n",
       "      <td>162409.0</td>\n",
       "      <td>5924.1</td>\n",
       "      <td>773.76</td>\n",
       "      <td>216.09</td>\n",
       "      <td>28.224</td>\n",
       "      <td>3.6864</td>\n",
       "    </tr>\n",
       "  </tbody>\n",
       "</table>\n",
       "<p>5 rows × 44 columns</p>\n",
       "</div>"
      ],
      "text/plain": [
       "        0      1      2      3     4      5     6      7          8   \\\n",
       "0  0.03041   5.19  0.515  5.895  59.6  224.0  20.2  10.56   0.000925   \n",
       "1  1.13081   8.14  0.538  5.713  94.1  307.0  21.0  22.60   1.278731   \n",
       "2  3.47428  18.10  0.718  8.780  82.9  666.0  20.2   5.29  12.070622   \n",
       "3  0.11329   4.93  0.428  6.897  54.3  300.0  16.6  11.38   0.012835   \n",
       "4  1.83377  19.58  0.605  7.802  98.2  403.0  14.7   1.92   3.362712   \n",
       "\n",
       "          9   ...       34       35       36        37        38       39  \\\n",
       "0   0.157828  ...  3552.16  13350.4  1203.92   629.376   50176.0   4524.8   \n",
       "1   9.204793  ...  8854.81  28888.7  1976.10  2126.660   94249.0   6447.0   \n",
       "2  62.884468  ...  6872.41  55211.4  1674.58   438.541  443556.0  13453.2   \n",
       "3   0.558520  ...  2948.49  16290.0   901.38   617.934   90000.0   4980.0   \n",
       "4  35.905217  ...  9643.24  39574.6  1443.54   188.544  162409.0   5924.1   \n",
       "\n",
       "        40      41       42        43  \n",
       "0  2365.44  408.04  213.312  111.5136  \n",
       "1  6938.20  441.00  474.600  510.7600  \n",
       "2  3523.14  408.04  106.858   27.9841  \n",
       "3  3414.00  275.56  188.908  129.5044  \n",
       "4   773.76  216.09   28.224    3.6864  \n",
       "\n",
       "[5 rows x 44 columns]"
      ]
     },
     "execution_count": 171,
     "metadata": {},
     "output_type": "execute_result"
    }
   ],
   "source": [
    "## Assign Answer for Mock Up Test with Poly Model into Variable\n",
    "df_x_test_poli=pd.DataFrame(x_test_poli)\n",
    "df_x_test_poli.head()"
   ]
  },
  {
   "cell_type": "code",
   "execution_count": null,
   "metadata": {},
   "outputs": [
    {
     "data": {
      "text/html": [
       "<style>#sk-container-id-4 {color: black;background-color: white;}#sk-container-id-4 pre{padding: 0;}#sk-container-id-4 div.sk-toggleable {background-color: white;}#sk-container-id-4 label.sk-toggleable__label {cursor: pointer;display: block;width: 100%;margin-bottom: 0;padding: 0.3em;box-sizing: border-box;text-align: center;}#sk-container-id-4 label.sk-toggleable__label-arrow:before {content: \"▸\";float: left;margin-right: 0.25em;color: #696969;}#sk-container-id-4 label.sk-toggleable__label-arrow:hover:before {color: black;}#sk-container-id-4 div.sk-estimator:hover label.sk-toggleable__label-arrow:before {color: black;}#sk-container-id-4 div.sk-toggleable__content {max-height: 0;max-width: 0;overflow: hidden;text-align: left;background-color: #f0f8ff;}#sk-container-id-4 div.sk-toggleable__content pre {margin: 0.2em;color: black;border-radius: 0.25em;background-color: #f0f8ff;}#sk-container-id-4 input.sk-toggleable__control:checked~div.sk-toggleable__content {max-height: 200px;max-width: 100%;overflow: auto;}#sk-container-id-4 input.sk-toggleable__control:checked~label.sk-toggleable__label-arrow:before {content: \"▾\";}#sk-container-id-4 div.sk-estimator input.sk-toggleable__control:checked~label.sk-toggleable__label {background-color: #d4ebff;}#sk-container-id-4 div.sk-label input.sk-toggleable__control:checked~label.sk-toggleable__label {background-color: #d4ebff;}#sk-container-id-4 input.sk-hidden--visually {border: 0;clip: rect(1px 1px 1px 1px);clip: rect(1px, 1px, 1px, 1px);height: 1px;margin: -1px;overflow: hidden;padding: 0;position: absolute;width: 1px;}#sk-container-id-4 div.sk-estimator {font-family: monospace;background-color: #f0f8ff;border: 1px dotted black;border-radius: 0.25em;box-sizing: border-box;margin-bottom: 0.5em;}#sk-container-id-4 div.sk-estimator:hover {background-color: #d4ebff;}#sk-container-id-4 div.sk-parallel-item::after {content: \"\";width: 100%;border-bottom: 1px solid gray;flex-grow: 1;}#sk-container-id-4 div.sk-label:hover label.sk-toggleable__label {background-color: #d4ebff;}#sk-container-id-4 div.sk-serial::before {content: \"\";position: absolute;border-left: 1px solid gray;box-sizing: border-box;top: 0;bottom: 0;left: 50%;z-index: 0;}#sk-container-id-4 div.sk-serial {display: flex;flex-direction: column;align-items: center;background-color: white;padding-right: 0.2em;padding-left: 0.2em;position: relative;}#sk-container-id-4 div.sk-item {position: relative;z-index: 1;}#sk-container-id-4 div.sk-parallel {display: flex;align-items: stretch;justify-content: center;background-color: white;position: relative;}#sk-container-id-4 div.sk-item::before, #sk-container-id-4 div.sk-parallel-item::before {content: \"\";position: absolute;border-left: 1px solid gray;box-sizing: border-box;top: 0;bottom: 0;left: 50%;z-index: -1;}#sk-container-id-4 div.sk-parallel-item {display: flex;flex-direction: column;z-index: 1;position: relative;background-color: white;}#sk-container-id-4 div.sk-parallel-item:first-child::after {align-self: flex-end;width: 50%;}#sk-container-id-4 div.sk-parallel-item:last-child::after {align-self: flex-start;width: 50%;}#sk-container-id-4 div.sk-parallel-item:only-child::after {width: 0;}#sk-container-id-4 div.sk-dashed-wrapped {border: 1px dashed gray;margin: 0 0.4em 0.5em 0.4em;box-sizing: border-box;padding-bottom: 0.4em;background-color: white;}#sk-container-id-4 div.sk-label label {font-family: monospace;font-weight: bold;display: inline-block;line-height: 1.2em;}#sk-container-id-4 div.sk-label-container {text-align: center;}#sk-container-id-4 div.sk-container {/* jupyter's `normalize.less` sets `[hidden] { display: none; }` but bootstrap.min.css set `[hidden] { display: none !important; }` so we also need the `!important` here to be able to override the default hidden behavior on the sphinx rendered scikit-learn.org. See: https://github.com/scikit-learn/scikit-learn/issues/21755 */display: inline-block !important;position: relative;}#sk-container-id-4 div.sk-text-repr-fallback {display: none;}</style><div id=\"sk-container-id-4\" class=\"sk-top-container\"><div class=\"sk-text-repr-fallback\"><pre>LinearRegression()</pre><b>In a Jupyter environment, please rerun this cell to show the HTML representation or trust the notebook. <br />On GitHub, the HTML representation is unable to render, please try loading this page with nbviewer.org.</b></div><div class=\"sk-container\" hidden><div class=\"sk-item\"><div class=\"sk-estimator sk-toggleable\"><input class=\"sk-toggleable__control sk-hidden--visually\" id=\"sk-estimator-id-4\" type=\"checkbox\" checked><label for=\"sk-estimator-id-4\" class=\"sk-toggleable__label sk-toggleable__label-arrow\">LinearRegression</label><div class=\"sk-toggleable__content\"><pre>LinearRegression()</pre></div></div></div></div></div>"
      ],
      "text/plain": [
       "LinearRegression()"
      ]
     },
     "execution_count": 172,
     "metadata": {},
     "output_type": "execute_result"
    }
   ],
   "source": [
    "## Build Model\n",
    "Model_Poli=LinearRegression()\n",
    "Model_Poli.fit(x_train_poli,y_train)"
   ]
  },
  {
   "cell_type": "code",
   "execution_count": null,
   "metadata": {},
   "outputs": [],
   "source": [
    "## Assign answer for Mock Up Test and Real Test to variable\n",
    "Poli_train=Model_Poli.predict(x_train_poli)\n",
    "Poli_test=Model_Poli.predict(x_test_poli)"
   ]
  },
  {
   "cell_type": "code",
   "execution_count": null,
   "metadata": {},
   "outputs": [
    {
     "data": {
      "text/html": [
       "<div>\n",
       "<style scoped>\n",
       "    .dataframe tbody tr th:only-of-type {\n",
       "        vertical-align: middle;\n",
       "    }\n",
       "\n",
       "    .dataframe tbody tr th {\n",
       "        vertical-align: top;\n",
       "    }\n",
       "\n",
       "    .dataframe thead th {\n",
       "        text-align: right;\n",
       "    }\n",
       "</style>\n",
       "<table border=\"1\" class=\"dataframe\">\n",
       "  <thead>\n",
       "    <tr style=\"text-align: right;\">\n",
       "      <th></th>\n",
       "      <th>LinRegTrain</th>\n",
       "      <th>LinRegTest</th>\n",
       "      <th>PolyTrain</th>\n",
       "      <th>PolyTest</th>\n",
       "      <th>Range</th>\n",
       "      <th>Indicator</th>\n",
       "    </tr>\n",
       "  </thead>\n",
       "  <tbody>\n",
       "    <tr>\n",
       "      <th>R-Squared</th>\n",
       "      <td>0.69</td>\n",
       "      <td>0.64</td>\n",
       "      <td>0.89</td>\n",
       "      <td>0.77</td>\n",
       "      <td>-~ to 1</td>\n",
       "      <td>Closer to 1 the better</td>\n",
       "    </tr>\n",
       "    <tr>\n",
       "      <th>MAE</th>\n",
       "      <td>3.57</td>\n",
       "      <td>3.85</td>\n",
       "      <td>2.18</td>\n",
       "      <td>2.92</td>\n",
       "      <td>0 to ~</td>\n",
       "      <td>Closer to 0 the better</td>\n",
       "    </tr>\n",
       "    <tr>\n",
       "      <th>MSE</th>\n",
       "      <td>26.25</td>\n",
       "      <td>28.37</td>\n",
       "      <td>9.43</td>\n",
       "      <td>18.16</td>\n",
       "      <td>0 to ~</td>\n",
       "      <td>Closer to 0 the better</td>\n",
       "    </tr>\n",
       "    <tr>\n",
       "      <th>RMSE</th>\n",
       "      <td>5.12</td>\n",
       "      <td>5.33</td>\n",
       "      <td>3.07</td>\n",
       "      <td>4.26</td>\n",
       "      <td>0 to ~</td>\n",
       "      <td>Closer to 0 the better</td>\n",
       "    </tr>\n",
       "  </tbody>\n",
       "</table>\n",
       "</div>"
      ],
      "text/plain": [
       "           LinRegTrain  LinRegTest  PolyTrain  PolyTest    Range  \\\n",
       "R-Squared         0.69        0.64       0.89      0.77  -~ to 1   \n",
       "MAE               3.57        3.85       2.18      2.92   0 to ~   \n",
       "MSE              26.25       28.37       9.43     18.16   0 to ~   \n",
       "RMSE              5.12        5.33       3.07      4.26   0 to ~   \n",
       "\n",
       "                        Indicator  \n",
       "R-Squared  Closer to 1 the better  \n",
       "MAE        Closer to 0 the better  \n",
       "MSE        Closer to 0 the better  \n",
       "RMSE       Closer to 0 the better  "
      ]
     },
     "execution_count": 174,
     "metadata": {},
     "output_type": "execute_result"
    }
   ],
   "source": [
    "## POLYNOMIAL FEATURE TRAINING SET\n",
    "## Calculate Evaluation Matrix with Every Alternatives\n",
    "r2_Poly_Train=r2_score(y_train,Poli_train)\n",
    "MAE_Poly_Train=mean_absolute_error(y_train,Poli_train)\n",
    "MSE_Poly_Train=mean_squared_error(y_train,Poli_train)\n",
    "RMSE_Poly_Train=np.sqrt(MSE_Poly_Train)\n",
    "\n",
    "## POLYNOMIAL FEATURE TESTING SET\n",
    "## Calculate Evaluation Matrix with Every Alternatives\n",
    "r2_Poly_Test=r2_score(y_test,Poli_test)\n",
    "MAE_Poly_Test=mean_absolute_error(y_test,Poli_test)\n",
    "MSE_Poly_Test=mean_squared_error(y_test,Poli_test)\n",
    "RMSE_Poly_Test=np.sqrt(MSE_Poly_Test)\n",
    "\n",
    "## BASE vs POLYNOMIAL\n",
    "ev_matrix={\n",
    "    'LinRegTrain':[r2_train,MAE_train,MSE_train,RMSE_train],\n",
    "    'LinRegTest':[r2_test,MAE_test,MSE_test,RMSE_test],\n",
    "    'PolyTrain':[r2_Poly_Train,MAE_Poly_Train,MSE_Poly_Train,RMSE_Poly_Train],\n",
    "    'PolyTest':[r2_Poly_Test,MAE_Poly_Test,MSE_Poly_Test,RMSE_Poly_Test],\n",
    "    'Range':['-~ to 1','0 to ~','0 to ~','0 to ~'],\n",
    "    'Indicator':['Closer to 1 the better','Closer to 0 the better','Closer to 0 the better','Closer to 0 the better']\n",
    "}\n",
    "pd.DataFrame(ev_matrix,index=['R-Squared','MAE','MSE','RMSE']).round(2)"
   ]
  },
  {
   "cell_type": "markdown",
   "metadata": {},
   "source": [
    "## Analysis\n",
    "- Good Model expected to score above 80 for both training and testing, while good training score but bad testing score indicates an overfitting Model.\n",
    "- After using Polynomial Featues, R-Squared for both training and testing sets score above 75.\n",
    "- Even though R-Squared for testing set after polynomial features still below 80, the R-Squared scores have improved compared to basic Multiple Linear Regression model.\n",
    "- Scores for all evaluation matrix methods show massive improvement as MAE, MSE, RMSE all scored closer to 0 (ideal result). "
   ]
  },
  {
   "cell_type": "markdown",
   "metadata": {},
   "source": [
    "<hr>\n",
    "\n",
    "# `REGULARIZATION + Polynomial Features`"
   ]
  },
  {
   "cell_type": "code",
   "execution_count": null,
   "metadata": {},
   "outputs": [],
   "source": [
    "## Import Package\n",
    "from sklearn.linear_model import Ridge, Lasso, ElasticNet"
   ]
  },
  {
   "cell_type": "markdown",
   "metadata": {},
   "source": [
    "### Before Tuning"
   ]
  },
  {
   "cell_type": "code",
   "execution_count": null,
   "metadata": {},
   "outputs": [],
   "source": [
    "## Build Model\n",
    "Model_R=Ridge()\n",
    "Model_L=Lasso()\n",
    "Model_E=ElasticNet()"
   ]
  },
  {
   "cell_type": "code",
   "execution_count": null,
   "metadata": {},
   "outputs": [],
   "source": [
    "## Predict with every Model\n",
    "Model_R.fit(df_x_train_poli,y_train)\n",
    "R_train=Model_R.predict(df_x_train_poli)\n",
    "R_test=Model_R.predict(df_x_test_poli)\n",
    "\n",
    "Model_L.fit(df_x_train_poli,y_train)\n",
    "L_train=Model_L.predict(df_x_train_poli)\n",
    "L_test=Model_L.predict(df_x_test_poli)\n",
    "\n",
    "Model_E.fit(df_x_train_poli,y_train)\n",
    "E_train=Model_E.predict(df_x_train_poli)\n",
    "E_test=Model_E.predict(df_x_test_poli)"
   ]
  },
  {
   "cell_type": "code",
   "execution_count": null,
   "metadata": {},
   "outputs": [
    {
     "data": {
      "text/html": [
       "<div>\n",
       "<style scoped>\n",
       "    .dataframe tbody tr th:only-of-type {\n",
       "        vertical-align: middle;\n",
       "    }\n",
       "\n",
       "    .dataframe tbody tr th {\n",
       "        vertical-align: top;\n",
       "    }\n",
       "\n",
       "    .dataframe thead th {\n",
       "        text-align: right;\n",
       "    }\n",
       "</style>\n",
       "<table border=\"1\" class=\"dataframe\">\n",
       "  <thead>\n",
       "    <tr style=\"text-align: right;\">\n",
       "      <th></th>\n",
       "      <th>LinRegTrain</th>\n",
       "      <th>LinRegTest</th>\n",
       "      <th>PolyTrain</th>\n",
       "      <th>PolyTest</th>\n",
       "      <th>RidgeTrain</th>\n",
       "      <th>RidgeTest</th>\n",
       "      <th>LassoTrain</th>\n",
       "      <th>LassoTest</th>\n",
       "      <th>ElasticnetTrain</th>\n",
       "      <th>ElasticnetTest</th>\n",
       "      <th>Range</th>\n",
       "      <th>Indicator</th>\n",
       "    </tr>\n",
       "  </thead>\n",
       "  <tbody>\n",
       "    <tr>\n",
       "      <th>R-Squared</th>\n",
       "      <td>0.69</td>\n",
       "      <td>0.64</td>\n",
       "      <td>0.89</td>\n",
       "      <td>0.77</td>\n",
       "      <td>0.89</td>\n",
       "      <td>0.74</td>\n",
       "      <td>0.87</td>\n",
       "      <td>0.73</td>\n",
       "      <td>0.87</td>\n",
       "      <td>0.73</td>\n",
       "      <td>-~ to 1</td>\n",
       "      <td>Closer to 1 the better</td>\n",
       "    </tr>\n",
       "    <tr>\n",
       "      <th>MAE</th>\n",
       "      <td>3.57</td>\n",
       "      <td>3.85</td>\n",
       "      <td>2.18</td>\n",
       "      <td>2.92</td>\n",
       "      <td>2.18</td>\n",
       "      <td>2.98</td>\n",
       "      <td>2.42</td>\n",
       "      <td>3.15</td>\n",
       "      <td>2.41</td>\n",
       "      <td>3.15</td>\n",
       "      <td>0 to ~</td>\n",
       "      <td>Closer to 0 the better</td>\n",
       "    </tr>\n",
       "    <tr>\n",
       "      <th>MSE</th>\n",
       "      <td>26.25</td>\n",
       "      <td>28.37</td>\n",
       "      <td>9.43</td>\n",
       "      <td>18.16</td>\n",
       "      <td>9.65</td>\n",
       "      <td>20.53</td>\n",
       "      <td>11.43</td>\n",
       "      <td>20.97</td>\n",
       "      <td>11.37</td>\n",
       "      <td>21.26</td>\n",
       "      <td>0 to ~</td>\n",
       "      <td>Closer to 0 the better</td>\n",
       "    </tr>\n",
       "    <tr>\n",
       "      <th>RMSE</th>\n",
       "      <td>5.12</td>\n",
       "      <td>5.33</td>\n",
       "      <td>3.07</td>\n",
       "      <td>4.26</td>\n",
       "      <td>3.11</td>\n",
       "      <td>4.53</td>\n",
       "      <td>3.38</td>\n",
       "      <td>4.58</td>\n",
       "      <td>3.37</td>\n",
       "      <td>4.61</td>\n",
       "      <td>0 to ~</td>\n",
       "      <td>Closer to 0 the better</td>\n",
       "    </tr>\n",
       "  </tbody>\n",
       "</table>\n",
       "</div>"
      ],
      "text/plain": [
       "           LinRegTrain  LinRegTest  PolyTrain  PolyTest  RidgeTrain  \\\n",
       "R-Squared         0.69        0.64       0.89      0.77        0.89   \n",
       "MAE               3.57        3.85       2.18      2.92        2.18   \n",
       "MSE              26.25       28.37       9.43     18.16        9.65   \n",
       "RMSE              5.12        5.33       3.07      4.26        3.11   \n",
       "\n",
       "           RidgeTest  LassoTrain  LassoTest  ElasticnetTrain  ElasticnetTest  \\\n",
       "R-Squared       0.74        0.87       0.73             0.87            0.73   \n",
       "MAE             2.98        2.42       3.15             2.41            3.15   \n",
       "MSE            20.53       11.43      20.97            11.37           21.26   \n",
       "RMSE            4.53        3.38       4.58             3.37            4.61   \n",
       "\n",
       "             Range               Indicator  \n",
       "R-Squared  -~ to 1  Closer to 1 the better  \n",
       "MAE         0 to ~  Closer to 0 the better  \n",
       "MSE         0 to ~  Closer to 0 the better  \n",
       "RMSE        0 to ~  Closer to 0 the better  "
      ]
     },
     "execution_count": 178,
     "metadata": {},
     "output_type": "execute_result"
    }
   ],
   "source": [
    "## RIDGE TRAINING SET\n",
    "## Calculate Evaluation Matrix with Every Alternatives\n",
    "r2_Ridge_Train=r2_score(y_train,R_train)\n",
    "MAE_Ridge_Train=mean_absolute_error(y_train,R_train)\n",
    "MSE_Ridge_Train=mean_squared_error(y_train,R_train)\n",
    "RMSE_Ridge_Train=np.sqrt(MSE_Ridge_Train)\n",
    "\n",
    "## RIDGE TESTING SET\n",
    "## Calculate Evaluation Matrix with Every Alternatives\n",
    "r2_Ridge_Test=r2_score(y_test,R_test)\n",
    "MAE_Ridge_Test=mean_absolute_error(y_test,R_test)\n",
    "MSE_Ridge_Test=mean_squared_error(y_test,R_test)\n",
    "RMSE_Ridge_Test=np.sqrt(MSE_Ridge_Test)\n",
    "\n",
    "## LASSO TRAINING SET\n",
    "## Calculate Evaluation Matrix with Every Alternatives\n",
    "r2_Lasso_Train=r2_score(y_train,L_train)\n",
    "MAE_Lasso_Train=mean_absolute_error(y_train,L_train)\n",
    "MSE_Lasso_Train=mean_squared_error(y_train,L_train)\n",
    "RMSE_Lasso_Train=np.sqrt(MSE_Lasso_Train)\n",
    "\n",
    "## LASSO TESTING SET\n",
    "## Calculate Evaluation Matrix with Every Alternatives\n",
    "r2_Lasso_Test=r2_score(y_test,L_test)\n",
    "MAE_Lasso_Test=mean_absolute_error(y_test,L_test)\n",
    "MSE_Lasso_Test=mean_squared_error(y_test,L_test)\n",
    "RMSE_Lasso_Test=np.sqrt(MSE_Lasso_Test)\n",
    "\n",
    "## ELASTICNET TRAINING SET\n",
    "## Calculate Evaluation Matrix with Every Alternatives\n",
    "r2_Elasticnet_Train=r2_score(y_train,E_train)\n",
    "MAE_Elasticnet_Train=mean_absolute_error(y_train,E_train)\n",
    "MSE_Elasticnet_Train=mean_squared_error(y_train,E_train)\n",
    "RMSE_Elasticnet_Train=np.sqrt(MSE_Elasticnet_Train)\n",
    "\n",
    "## RIDGE TESTING SET\n",
    "## Calculate Evaluation Matrix with Every Alternatives\n",
    "r2_Elasticnet_Test=r2_score(y_test,E_test)\n",
    "MAE_Elasticnet_Test=mean_absolute_error(y_test,E_test)\n",
    "MSE_Elasticnet_Test=mean_squared_error(y_test,E_test)\n",
    "RMSE_Elasticnet_Test=np.sqrt(MSE_Elasticnet_Test)\n",
    "\n",
    "## BEFORE vs AFTER REGULARIZATION\n",
    "ev_matrix_reg={\n",
    "    'LinRegTrain':[r2_train,MAE_train,MSE_train,RMSE_train],\n",
    "    'LinRegTest':[r2_test,MAE_test,MSE_test,RMSE_test],\n",
    "    'PolyTrain':[r2_Poly_Train,MAE_Poly_Train,MSE_Poly_Train,RMSE_Poly_Train],\n",
    "    'PolyTest':[r2_Poly_Test,MAE_Poly_Test,MSE_Poly_Test,RMSE_Poly_Test],\n",
    "    'RidgeTrain':[r2_Ridge_Train,MAE_Ridge_Train,MSE_Ridge_Train,RMSE_Ridge_Train],\n",
    "    'RidgeTest':[r2_Ridge_Test,MAE_Ridge_Test,MSE_Ridge_Test,RMSE_Ridge_Test],\n",
    "    'LassoTrain':[r2_Lasso_Train,MAE_Lasso_Train,MSE_Lasso_Train,RMSE_Lasso_Train],\n",
    "    'LassoTest':[r2_Lasso_Test,MAE_Lasso_Test,MSE_Lasso_Test,RMSE_Lasso_Test],\n",
    "    'ElasticnetTrain':[r2_Elasticnet_Train,MAE_Elasticnet_Train,MSE_Elasticnet_Train,RMSE_Elasticnet_Train],\n",
    "    'ElasticnetTest':[r2_Elasticnet_Test,MAE_Elasticnet_Test,MSE_Elasticnet_Test,RMSE_Elasticnet_Test],    \n",
    "    'Range':['-~ to 1','0 to ~','0 to ~','0 to ~'],\n",
    "    'Indicator':['Closer to 1 the better','Closer to 0 the better','Closer to 0 the better','Closer to 0 the better']\n",
    "}\n",
    "summary=pd.DataFrame(ev_matrix_reg,index=['R-Squared','MAE','MSE','RMSE']).round(2)\n",
    "summary.T"
   ]
  },
  {
   "cell_type": "markdown",
   "metadata": {},
   "source": [
    "#### Summary:\n",
    "- Based on the indicator of R-Squared, Evaluation Matrix score for training test using polynomial features and ridge+polynomial features are the highest among all models. Score for testing set using both models produce an acceptable result even though did not exceed requirements which ideally would score above 0.80"
   ]
  },
  {
   "cell_type": "markdown",
   "metadata": {},
   "source": [
    "### Manual Tuning"
   ]
  },
  {
   "cell_type": "code",
   "execution_count": null,
   "metadata": {},
   "outputs": [],
   "source": [
    "## Provide Alpha List to be Tested\n",
    "parameter_a=[0.001,0.01,1,10,20,30,40,50,100]\n",
    "parameter_b=np.arange(0,3,0.001)"
   ]
  },
  {
   "cell_type": "code",
   "execution_count": null,
   "metadata": {},
   "outputs": [],
   "source": [
    "## Use only R-Squared to Compare\n",
    "train_rsq_R=[]\n",
    "test_rsq_R=[]\n",
    "train_rsq_L=[]\n",
    "test_rsq_L=[]\n",
    "train_rsq_E=[]\n",
    "test_rsq_E=[]\n",
    "\n",
    "for i in parameter_b:\n",
    "    ## Ridge Training\n",
    "    model_R=Ridge(alpha=i)\n",
    "    model_R.fit(df_x_train_poli,y_train)\n",
    "    y_predR_train=model_R.predict(df_x_train_poli)\n",
    "    R2_ridge_train=r2_score(y_train,y_predR_train)\n",
    "    train_rsq_R.append(R2_ridge_train)\n",
    "\n",
    "    ## Ridge Testing\n",
    "    y_predR_test=model_R.predict(df_x_test_poli)\n",
    "    R2_ridge_test=r2_score(y_test,y_predR_test)\n",
    "    test_rsq_R.append(R2_ridge_test)\n",
    "\n",
    "    ## Lasso Training\n",
    "    model_L=Lasso(alpha=i)\n",
    "    model_L.fit(df_x_train_poli,y_train)\n",
    "    y_predL_train=model_L.predict(df_x_train_poli)\n",
    "    R2_lasso_train=r2_score(y_train,y_predL_train)\n",
    "    train_rsq_L.append(R2_lasso_train)\n",
    "\n",
    "    ## Lasso Testing\n",
    "    y_predL_test=model_L.predict(df_x_test_poli)\n",
    "    R2_lasso_test=r2_score(y_test,y_predL_test)\n",
    "    test_rsq_L.append(R2_lasso_test)\n",
    "\n",
    "    ## ElasticNet Training\n",
    "    model_E=ElasticNet(alpha=i,l1_ratio=0.6)\n",
    "    model_E.fit(df_x_train_poli,y_train)\n",
    "    y_predE_train=model_E.predict(df_x_train_poli)\n",
    "    R2_elasticnet_train=r2_score(y_train,y_predE_train)\n",
    "    train_rsq_E.append(R2_elasticnet_train)\n",
    "\n",
    "    ## ElasticNet Testing\n",
    "    y_predE_test=model_E.predict(df_x_test_poli)\n",
    "    R2_elasticnet_test=r2_score(y_test,y_predE_test)\n",
    "    test_rsq_E.append(R2_elasticnet_test)"
   ]
  },
  {
   "cell_type": "code",
   "execution_count": null,
   "metadata": {},
   "outputs": [
    {
     "data": {
      "image/png": "[encoded data removed]",
      "text/plain": [
       "<Figure size 864x720 with 1 Axes>"
      ]
     },
     "metadata": {
      "needs_background": "light"
     },
     "output_type": "display_data"
    },
    {
     "ename": "",
     "evalue": "",
     "output_type": "error",
     "traceback": [
      "\u001b[1;31mThe Kernel crashed while executing code in the the current cell or a previous cell. Please review the code in the cell(s) to identify a possible cause of the failure. Click <a href='https://aka.ms/vscodeJupyterKernelCrash'>here</a> for more info. View Jupyter <a href='command:jupyter.viewOutput'>log</a> for further details."
     ]
    }
   ],
   "source": [
    "## Visualization\n",
    "plt.figure(figsize=(12,10))\n",
    "plt.plot(parameter_b,test_rsq_R,'b--',linewidth=1.5)\n",
    "plt.plot(parameter_b,train_rsq_R,'b*-',linewidth=1.5)\n",
    "plt.plot(parameter_b,test_rsq_L,'r--',linewidth=1.5)\n",
    "plt.plot(parameter_b,train_rsq_L,'r*-',linewidth=1.5)\n",
    "plt.plot(parameter_b,test_rsq_E,'g--',linewidth=1.5)\n",
    "plt.plot(parameter_b,train_rsq_E,'g*-',linewidth=1.5)\n",
    "plt.legend(['Test Ridge','Train Ridge','Test Lasso','Train Lasso','Test ElasticNet','Train ElasticNet'])\n",
    "plt.title('Manual Tuning Ridge/Lasso/ElasticNet + Polynomial Features',size=20)\n",
    "plt.ylabel('R-Squared',size=12)\n",
    "plt.xlabel('Alpha',size=12)\n",
    "plt.show()"
   ]
  },
  {
   "cell_type": "code",
   "execution_count": null,
   "metadata": {},
   "outputs": [
    {
     "name": "stdout",
     "output_type": "stream",
     "text": [
      "Ridge Train = 0.0\n",
      "Ridge Test = 0.0\n",
      "Lasso Train = 0.001\n",
      "Lasso Test = 0.0\n",
      "ElasticNet Train = 0.0\n",
      "ElasticNet Test = 0.0\n"
     ]
    }
   ],
   "source": [
    "## search Alpha for highest R-Squared result per category\n",
    "print(f'Ridge Train = {parameter_b[np.argmax(train_rsq_R)]}')\n",
    "print(f'Ridge Test = {parameter_b[np.argmax(test_rsq_R)]}')\n",
    "print(f'Lasso Train = {parameter_b[np.argmax(train_rsq_L)]}')\n",
    "print(f'Lasso Test = {parameter_b[np.argmax(test_rsq_L)]}')\n",
    "print(f'ElasticNet Train = {parameter_b[np.argmax(train_rsq_E)]}')\n",
    "print(f'ElasticNet Test = {parameter_b[np.argmax(test_rsq_E)]}')"
   ]
  },
  {
   "cell_type": "markdown",
   "metadata": {},
   "source": [
    "### Insight:\n",
    "- Best evaluation matrix result (R-Squared score) is from Ridge Models with training set score above 0.875 and testing score a bit below 0.775.\n",
    "- The best Alpha value for this Ridge Model is 0.0"
   ]
  }
 ],
 "metadata": {
  "kernelspec": {
   "display_name": "Python 3.10.5 64-bit (windows store)",
   "language": "python",
   "name": "python3"
  },
  "language_info": {
   "codemirror_mode": {
    "name": "ipython",
    "version": 3
   },
   "file_extension": ".py",
   "mimetype": "text/x-python",
   "name": "python",
   "nbconvert_exporter": "python",
   "pygments_lexer": "ipython3",
   "version": "3.10.5"
  },
  "orig_nbformat": 4,
  "vscode": {
   "interpreter": {
    "hash": "bbdc6700f60de612a9776dd7a4bd392f8898b0d00245e53755bddb2281dd5e23"
   }
  }
 },
 "nbformat": 4,
 "nbformat_minor": 2
}
